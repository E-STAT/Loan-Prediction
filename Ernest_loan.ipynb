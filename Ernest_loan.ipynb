{
 "cells": [
  {
   "cell_type": "code",
   "execution_count": 101,
   "metadata": {},
   "outputs": [],
   "source": [
    "import numpy as np\n",
    "import pandas as pd\n",
    "import matplotlib.pyplot as plt\n",
    "import seaborn as sns\n",
    "%matplotlib inline"
   ]
  },
  {
   "cell_type": "code",
   "execution_count": 102,
   "metadata": {},
   "outputs": [],
   "source": [
    "df_train = pd.read_csv('train.csv')\n",
    "df_test = pd.read_csv('test.csv')"
   ]
  },
  {
   "cell_type": "code",
   "execution_count": 103,
   "metadata": {},
   "outputs": [
    {
     "data": {
      "text/plain": [
       "(614, 13)"
      ]
     },
     "execution_count": 103,
     "metadata": {},
     "output_type": "execute_result"
    }
   ],
   "source": [
    "df_train.shape"
   ]
  },
  {
   "cell_type": "code",
   "execution_count": 104,
   "metadata": {},
   "outputs": [
    {
     "data": {
      "text/plain": [
       "(367, 12)"
      ]
     },
     "execution_count": 104,
     "metadata": {},
     "output_type": "execute_result"
    }
   ],
   "source": [
    "df_test.shape"
   ]
  },
  {
   "cell_type": "code",
   "execution_count": 105,
   "metadata": {},
   "outputs": [
    {
     "data": {
      "text/html": [
       "<div>\n",
       "<style scoped>\n",
       "    .dataframe tbody tr th:only-of-type {\n",
       "        vertical-align: middle;\n",
       "    }\n",
       "\n",
       "    .dataframe tbody tr th {\n",
       "        vertical-align: top;\n",
       "    }\n",
       "\n",
       "    .dataframe thead th {\n",
       "        text-align: right;\n",
       "    }\n",
       "</style>\n",
       "<table border=\"1\" class=\"dataframe\">\n",
       "  <thead>\n",
       "    <tr style=\"text-align: right;\">\n",
       "      <th></th>\n",
       "      <th>Loan_ID</th>\n",
       "      <th>Gender</th>\n",
       "      <th>Married</th>\n",
       "      <th>Dependents</th>\n",
       "      <th>Education</th>\n",
       "      <th>Self_Employed</th>\n",
       "      <th>ApplicantIncome</th>\n",
       "      <th>CoapplicantIncome</th>\n",
       "      <th>LoanAmount</th>\n",
       "      <th>Loan_Amount_Term</th>\n",
       "      <th>Credit_History</th>\n",
       "      <th>Property_Area</th>\n",
       "      <th>Loan_Status</th>\n",
       "    </tr>\n",
       "  </thead>\n",
       "  <tbody>\n",
       "    <tr>\n",
       "      <td>0</td>\n",
       "      <td>LP001002</td>\n",
       "      <td>Male</td>\n",
       "      <td>No</td>\n",
       "      <td>0</td>\n",
       "      <td>Graduate</td>\n",
       "      <td>No</td>\n",
       "      <td>5849</td>\n",
       "      <td>0.0</td>\n",
       "      <td>NaN</td>\n",
       "      <td>360.0</td>\n",
       "      <td>1.0</td>\n",
       "      <td>Urban</td>\n",
       "      <td>Y</td>\n",
       "    </tr>\n",
       "    <tr>\n",
       "      <td>1</td>\n",
       "      <td>LP001003</td>\n",
       "      <td>Male</td>\n",
       "      <td>Yes</td>\n",
       "      <td>1</td>\n",
       "      <td>Graduate</td>\n",
       "      <td>No</td>\n",
       "      <td>4583</td>\n",
       "      <td>1508.0</td>\n",
       "      <td>128.0</td>\n",
       "      <td>360.0</td>\n",
       "      <td>1.0</td>\n",
       "      <td>Rural</td>\n",
       "      <td>N</td>\n",
       "    </tr>\n",
       "    <tr>\n",
       "      <td>2</td>\n",
       "      <td>LP001005</td>\n",
       "      <td>Male</td>\n",
       "      <td>Yes</td>\n",
       "      <td>0</td>\n",
       "      <td>Graduate</td>\n",
       "      <td>Yes</td>\n",
       "      <td>3000</td>\n",
       "      <td>0.0</td>\n",
       "      <td>66.0</td>\n",
       "      <td>360.0</td>\n",
       "      <td>1.0</td>\n",
       "      <td>Urban</td>\n",
       "      <td>Y</td>\n",
       "    </tr>\n",
       "    <tr>\n",
       "      <td>3</td>\n",
       "      <td>LP001006</td>\n",
       "      <td>Male</td>\n",
       "      <td>Yes</td>\n",
       "      <td>0</td>\n",
       "      <td>Not Graduate</td>\n",
       "      <td>No</td>\n",
       "      <td>2583</td>\n",
       "      <td>2358.0</td>\n",
       "      <td>120.0</td>\n",
       "      <td>360.0</td>\n",
       "      <td>1.0</td>\n",
       "      <td>Urban</td>\n",
       "      <td>Y</td>\n",
       "    </tr>\n",
       "    <tr>\n",
       "      <td>4</td>\n",
       "      <td>LP001008</td>\n",
       "      <td>Male</td>\n",
       "      <td>No</td>\n",
       "      <td>0</td>\n",
       "      <td>Graduate</td>\n",
       "      <td>No</td>\n",
       "      <td>6000</td>\n",
       "      <td>0.0</td>\n",
       "      <td>141.0</td>\n",
       "      <td>360.0</td>\n",
       "      <td>1.0</td>\n",
       "      <td>Urban</td>\n",
       "      <td>Y</td>\n",
       "    </tr>\n",
       "  </tbody>\n",
       "</table>\n",
       "</div>"
      ],
      "text/plain": [
       "    Loan_ID Gender Married Dependents     Education Self_Employed  \\\n",
       "0  LP001002   Male      No          0      Graduate            No   \n",
       "1  LP001003   Male     Yes          1      Graduate            No   \n",
       "2  LP001005   Male     Yes          0      Graduate           Yes   \n",
       "3  LP001006   Male     Yes          0  Not Graduate            No   \n",
       "4  LP001008   Male      No          0      Graduate            No   \n",
       "\n",
       "   ApplicantIncome  CoapplicantIncome  LoanAmount  Loan_Amount_Term  \\\n",
       "0             5849                0.0         NaN             360.0   \n",
       "1             4583             1508.0       128.0             360.0   \n",
       "2             3000                0.0        66.0             360.0   \n",
       "3             2583             2358.0       120.0             360.0   \n",
       "4             6000                0.0       141.0             360.0   \n",
       "\n",
       "   Credit_History Property_Area Loan_Status  \n",
       "0             1.0         Urban           Y  \n",
       "1             1.0         Rural           N  \n",
       "2             1.0         Urban           Y  \n",
       "3             1.0         Urban           Y  \n",
       "4             1.0         Urban           Y  "
      ]
     },
     "execution_count": 105,
     "metadata": {},
     "output_type": "execute_result"
    }
   ],
   "source": [
    "df_train.head()"
   ]
  },
  {
   "cell_type": "markdown",
   "metadata": {},
   "source": [
    "### Missing Value check"
   ]
  },
  {
   "cell_type": "code",
   "execution_count": 106,
   "metadata": {},
   "outputs": [
    {
     "data": {
      "text/html": [
       "<div>\n",
       "<style scoped>\n",
       "    .dataframe tbody tr th:only-of-type {\n",
       "        vertical-align: middle;\n",
       "    }\n",
       "\n",
       "    .dataframe tbody tr th {\n",
       "        vertical-align: top;\n",
       "    }\n",
       "\n",
       "    .dataframe thead th {\n",
       "        text-align: right;\n",
       "    }\n",
       "</style>\n",
       "<table border=\"1\" class=\"dataframe\">\n",
       "  <thead>\n",
       "    <tr style=\"text-align: right;\">\n",
       "      <th></th>\n",
       "      <th>Total</th>\n",
       "      <th>Percent</th>\n",
       "    </tr>\n",
       "  </thead>\n",
       "  <tbody>\n",
       "    <tr>\n",
       "      <td>Credit_History</td>\n",
       "      <td>50</td>\n",
       "      <td>0.081433</td>\n",
       "    </tr>\n",
       "    <tr>\n",
       "      <td>Self_Employed</td>\n",
       "      <td>32</td>\n",
       "      <td>0.052117</td>\n",
       "    </tr>\n",
       "    <tr>\n",
       "      <td>LoanAmount</td>\n",
       "      <td>22</td>\n",
       "      <td>0.035831</td>\n",
       "    </tr>\n",
       "    <tr>\n",
       "      <td>Dependents</td>\n",
       "      <td>15</td>\n",
       "      <td>0.024430</td>\n",
       "    </tr>\n",
       "    <tr>\n",
       "      <td>Loan_Amount_Term</td>\n",
       "      <td>14</td>\n",
       "      <td>0.022801</td>\n",
       "    </tr>\n",
       "    <tr>\n",
       "      <td>Gender</td>\n",
       "      <td>13</td>\n",
       "      <td>0.021173</td>\n",
       "    </tr>\n",
       "    <tr>\n",
       "      <td>Married</td>\n",
       "      <td>3</td>\n",
       "      <td>0.004886</td>\n",
       "    </tr>\n",
       "    <tr>\n",
       "      <td>Loan_Status</td>\n",
       "      <td>0</td>\n",
       "      <td>0.000000</td>\n",
       "    </tr>\n",
       "    <tr>\n",
       "      <td>Property_Area</td>\n",
       "      <td>0</td>\n",
       "      <td>0.000000</td>\n",
       "    </tr>\n",
       "    <tr>\n",
       "      <td>CoapplicantIncome</td>\n",
       "      <td>0</td>\n",
       "      <td>0.000000</td>\n",
       "    </tr>\n",
       "    <tr>\n",
       "      <td>ApplicantIncome</td>\n",
       "      <td>0</td>\n",
       "      <td>0.000000</td>\n",
       "    </tr>\n",
       "    <tr>\n",
       "      <td>Education</td>\n",
       "      <td>0</td>\n",
       "      <td>0.000000</td>\n",
       "    </tr>\n",
       "    <tr>\n",
       "      <td>Loan_ID</td>\n",
       "      <td>0</td>\n",
       "      <td>0.000000</td>\n",
       "    </tr>\n",
       "  </tbody>\n",
       "</table>\n",
       "</div>"
      ],
      "text/plain": [
       "                   Total   Percent\n",
       "Credit_History        50  0.081433\n",
       "Self_Employed         32  0.052117\n",
       "LoanAmount            22  0.035831\n",
       "Dependents            15  0.024430\n",
       "Loan_Amount_Term      14  0.022801\n",
       "Gender                13  0.021173\n",
       "Married                3  0.004886\n",
       "Loan_Status            0  0.000000\n",
       "Property_Area          0  0.000000\n",
       "CoapplicantIncome      0  0.000000\n",
       "ApplicantIncome        0  0.000000\n",
       "Education              0  0.000000\n",
       "Loan_ID                0  0.000000"
      ]
     },
     "execution_count": 106,
     "metadata": {},
     "output_type": "execute_result"
    }
   ],
   "source": [
    "total = df_train.isnull().sum().sort_values(ascending=False)\n",
    "percent = (df_train.isnull().sum()/df_train.isnull().count()).sort_values(ascending=False)\n",
    "missing_data = pd.concat([total, percent], axis=1, keys=['Total', 'Percent'])\n",
    "missing_data.head(20)"
   ]
  },
  {
   "cell_type": "markdown",
   "metadata": {},
   "source": [
    "## Filling of missing values"
   ]
  },
  {
   "cell_type": "code",
   "execution_count": 107,
   "metadata": {},
   "outputs": [],
   "source": [
    "df_train['Gender'] = df_train['Gender'].fillna( \n",
    "                               df_train['Gender'].dropna().mode().values[0] )\n",
    "df_train['Married'] = df_train['Married'].fillna( \n",
    "                               df_train['Married'].dropna().mode().values[0] )\n",
    "df_train['Dependents'] = df_train['Dependents'].fillna( \n",
    "                               df_train['Dependents'].dropna().mode().values[0] )\n",
    "df_train['Self_Employed'] = df_train['Self_Employed'].fillna( \n",
    "                               df_train['Self_Employed'].dropna().mode().values[0] )\n",
    "df_train['LoanAmount'] = df_train['LoanAmount'].fillna( \n",
    "                               df_train['LoanAmount'].dropna().median() )\n",
    "df_train['Loan_Amount_Term'] = df_train['Loan_Amount_Term'].fillna( \n",
    "                               df_train['Loan_Amount_Term'].dropna().mode().values[0] )\n",
    "df_train['Credit_History'] = df_train['Credit_History'].fillna(\n",
    "                               df_train['Credit_History'].dropna().mode().values[0] )\n",
    "\n",
    "\n",
    "df_test['Gender'] = df_test['Gender'].fillna( \n",
    "                               df_test['Gender'].dropna().mode().values[0] )\n",
    "df_test['Married'] = df_test['Married'].fillna( \n",
    "                               df_test['Married'].dropna().mode().values[0] )\n",
    "df_test['Dependents'] = df_test['Dependents'].fillna( \n",
    "                               df_test['Dependents'].dropna().mode().values[0] )\n",
    "df_test['Self_Employed'] = df_test['Self_Employed'].fillna( \n",
    "                               df_test['Self_Employed'].dropna().mode().values[0] )\n",
    "df_test['LoanAmount'] = df_test['LoanAmount'].fillna( \n",
    "                               df_test['LoanAmount'].dropna().median() )\n",
    "df_test['Loan_Amount_Term'] = df_test['Loan_Amount_Term'].fillna( \n",
    "                               df_test['Loan_Amount_Term'].dropna().mode().values[0] )\n",
    "df_test['Credit_History'] = df_test['Credit_History'].fillna(\n",
    "                               df_test['Credit_History'].dropna().mode().values[0] )"
   ]
  },
  {
   "cell_type": "code",
   "execution_count": 108,
   "metadata": {},
   "outputs": [
    {
     "data": {
      "text/html": [
       "<div>\n",
       "<style scoped>\n",
       "    .dataframe tbody tr th:only-of-type {\n",
       "        vertical-align: middle;\n",
       "    }\n",
       "\n",
       "    .dataframe tbody tr th {\n",
       "        vertical-align: top;\n",
       "    }\n",
       "\n",
       "    .dataframe thead th {\n",
       "        text-align: right;\n",
       "    }\n",
       "</style>\n",
       "<table border=\"1\" class=\"dataframe\">\n",
       "  <thead>\n",
       "    <tr style=\"text-align: right;\">\n",
       "      <th></th>\n",
       "      <th>Total</th>\n",
       "      <th>Percent</th>\n",
       "    </tr>\n",
       "  </thead>\n",
       "  <tbody>\n",
       "    <tr>\n",
       "      <td>Loan_Status</td>\n",
       "      <td>0</td>\n",
       "      <td>0.0</td>\n",
       "    </tr>\n",
       "    <tr>\n",
       "      <td>Property_Area</td>\n",
       "      <td>0</td>\n",
       "      <td>0.0</td>\n",
       "    </tr>\n",
       "    <tr>\n",
       "      <td>Credit_History</td>\n",
       "      <td>0</td>\n",
       "      <td>0.0</td>\n",
       "    </tr>\n",
       "    <tr>\n",
       "      <td>Loan_Amount_Term</td>\n",
       "      <td>0</td>\n",
       "      <td>0.0</td>\n",
       "    </tr>\n",
       "    <tr>\n",
       "      <td>LoanAmount</td>\n",
       "      <td>0</td>\n",
       "      <td>0.0</td>\n",
       "    </tr>\n",
       "    <tr>\n",
       "      <td>CoapplicantIncome</td>\n",
       "      <td>0</td>\n",
       "      <td>0.0</td>\n",
       "    </tr>\n",
       "    <tr>\n",
       "      <td>ApplicantIncome</td>\n",
       "      <td>0</td>\n",
       "      <td>0.0</td>\n",
       "    </tr>\n",
       "    <tr>\n",
       "      <td>Self_Employed</td>\n",
       "      <td>0</td>\n",
       "      <td>0.0</td>\n",
       "    </tr>\n",
       "    <tr>\n",
       "      <td>Education</td>\n",
       "      <td>0</td>\n",
       "      <td>0.0</td>\n",
       "    </tr>\n",
       "    <tr>\n",
       "      <td>Dependents</td>\n",
       "      <td>0</td>\n",
       "      <td>0.0</td>\n",
       "    </tr>\n",
       "    <tr>\n",
       "      <td>Married</td>\n",
       "      <td>0</td>\n",
       "      <td>0.0</td>\n",
       "    </tr>\n",
       "    <tr>\n",
       "      <td>Gender</td>\n",
       "      <td>0</td>\n",
       "      <td>0.0</td>\n",
       "    </tr>\n",
       "    <tr>\n",
       "      <td>Loan_ID</td>\n",
       "      <td>0</td>\n",
       "      <td>0.0</td>\n",
       "    </tr>\n",
       "  </tbody>\n",
       "</table>\n",
       "</div>"
      ],
      "text/plain": [
       "                   Total  Percent\n",
       "Loan_Status            0      0.0\n",
       "Property_Area          0      0.0\n",
       "Credit_History         0      0.0\n",
       "Loan_Amount_Term       0      0.0\n",
       "LoanAmount             0      0.0\n",
       "CoapplicantIncome      0      0.0\n",
       "ApplicantIncome        0      0.0\n",
       "Self_Employed          0      0.0\n",
       "Education              0      0.0\n",
       "Dependents             0      0.0\n",
       "Married                0      0.0\n",
       "Gender                 0      0.0\n",
       "Loan_ID                0      0.0"
      ]
     },
     "execution_count": 108,
     "metadata": {},
     "output_type": "execute_result"
    }
   ],
   "source": [
    "total = df_train.isnull().sum().sort_values(ascending=False)\n",
    "percent = (df_train.isnull().sum()/df_train.isnull().count()).sort_values(ascending=False)\n",
    "missing_data = pd.concat([total, percent], axis=1, keys=['Total', 'Percent'])\n",
    "missing_data.head(20)"
   ]
  },
  {
   "cell_type": "code",
   "execution_count": 109,
   "metadata": {},
   "outputs": [
    {
     "data": {
      "text/plain": [
       "0     360\n",
       "1     102\n",
       "2     101\n",
       "3+     51\n",
       "Name: Dependents, dtype: int64"
      ]
     },
     "execution_count": 109,
     "metadata": {},
     "output_type": "execute_result"
    }
   ],
   "source": [
    "df_train.Dependents.value_counts()"
   ]
  },
  {
   "cell_type": "code",
   "execution_count": 110,
   "metadata": {},
   "outputs": [
    {
     "data": {
      "text/html": [
       "<div>\n",
       "<style scoped>\n",
       "    .dataframe tbody tr th:only-of-type {\n",
       "        vertical-align: middle;\n",
       "    }\n",
       "\n",
       "    .dataframe tbody tr th {\n",
       "        vertical-align: top;\n",
       "    }\n",
       "\n",
       "    .dataframe thead th {\n",
       "        text-align: right;\n",
       "    }\n",
       "</style>\n",
       "<table border=\"1\" class=\"dataframe\">\n",
       "  <thead>\n",
       "    <tr style=\"text-align: right;\">\n",
       "      <th></th>\n",
       "      <th>Loan_ID</th>\n",
       "      <th>Gender</th>\n",
       "      <th>Married</th>\n",
       "      <th>Dependents</th>\n",
       "      <th>Education</th>\n",
       "      <th>Self_Employed</th>\n",
       "      <th>ApplicantIncome</th>\n",
       "      <th>CoapplicantIncome</th>\n",
       "      <th>LoanAmount</th>\n",
       "      <th>Loan_Amount_Term</th>\n",
       "      <th>Credit_History</th>\n",
       "      <th>Property_Area</th>\n",
       "      <th>Loan_Status</th>\n",
       "    </tr>\n",
       "  </thead>\n",
       "  <tbody>\n",
       "    <tr>\n",
       "      <td>0</td>\n",
       "      <td>LP001002</td>\n",
       "      <td>Male</td>\n",
       "      <td>No</td>\n",
       "      <td>0</td>\n",
       "      <td>Graduate</td>\n",
       "      <td>No</td>\n",
       "      <td>5849</td>\n",
       "      <td>0.0</td>\n",
       "      <td>128.0</td>\n",
       "      <td>360.0</td>\n",
       "      <td>1.0</td>\n",
       "      <td>Urban</td>\n",
       "      <td>Y</td>\n",
       "    </tr>\n",
       "    <tr>\n",
       "      <td>1</td>\n",
       "      <td>LP001003</td>\n",
       "      <td>Male</td>\n",
       "      <td>Yes</td>\n",
       "      <td>1</td>\n",
       "      <td>Graduate</td>\n",
       "      <td>No</td>\n",
       "      <td>4583</td>\n",
       "      <td>1508.0</td>\n",
       "      <td>128.0</td>\n",
       "      <td>360.0</td>\n",
       "      <td>1.0</td>\n",
       "      <td>Rural</td>\n",
       "      <td>N</td>\n",
       "    </tr>\n",
       "    <tr>\n",
       "      <td>2</td>\n",
       "      <td>LP001005</td>\n",
       "      <td>Male</td>\n",
       "      <td>Yes</td>\n",
       "      <td>0</td>\n",
       "      <td>Graduate</td>\n",
       "      <td>Yes</td>\n",
       "      <td>3000</td>\n",
       "      <td>0.0</td>\n",
       "      <td>66.0</td>\n",
       "      <td>360.0</td>\n",
       "      <td>1.0</td>\n",
       "      <td>Urban</td>\n",
       "      <td>Y</td>\n",
       "    </tr>\n",
       "    <tr>\n",
       "      <td>3</td>\n",
       "      <td>LP001006</td>\n",
       "      <td>Male</td>\n",
       "      <td>Yes</td>\n",
       "      <td>0</td>\n",
       "      <td>Not Graduate</td>\n",
       "      <td>No</td>\n",
       "      <td>2583</td>\n",
       "      <td>2358.0</td>\n",
       "      <td>120.0</td>\n",
       "      <td>360.0</td>\n",
       "      <td>1.0</td>\n",
       "      <td>Urban</td>\n",
       "      <td>Y</td>\n",
       "    </tr>\n",
       "    <tr>\n",
       "      <td>4</td>\n",
       "      <td>LP001008</td>\n",
       "      <td>Male</td>\n",
       "      <td>No</td>\n",
       "      <td>0</td>\n",
       "      <td>Graduate</td>\n",
       "      <td>No</td>\n",
       "      <td>6000</td>\n",
       "      <td>0.0</td>\n",
       "      <td>141.0</td>\n",
       "      <td>360.0</td>\n",
       "      <td>1.0</td>\n",
       "      <td>Urban</td>\n",
       "      <td>Y</td>\n",
       "    </tr>\n",
       "  </tbody>\n",
       "</table>\n",
       "</div>"
      ],
      "text/plain": [
       "    Loan_ID Gender Married Dependents     Education Self_Employed  \\\n",
       "0  LP001002   Male      No          0      Graduate            No   \n",
       "1  LP001003   Male     Yes          1      Graduate            No   \n",
       "2  LP001005   Male     Yes          0      Graduate           Yes   \n",
       "3  LP001006   Male     Yes          0  Not Graduate            No   \n",
       "4  LP001008   Male      No          0      Graduate            No   \n",
       "\n",
       "   ApplicantIncome  CoapplicantIncome  LoanAmount  Loan_Amount_Term  \\\n",
       "0             5849                0.0       128.0             360.0   \n",
       "1             4583             1508.0       128.0             360.0   \n",
       "2             3000                0.0        66.0             360.0   \n",
       "3             2583             2358.0       120.0             360.0   \n",
       "4             6000                0.0       141.0             360.0   \n",
       "\n",
       "   Credit_History Property_Area Loan_Status  \n",
       "0             1.0         Urban           Y  \n",
       "1             1.0         Rural           N  \n",
       "2             1.0         Urban           Y  \n",
       "3             1.0         Urban           Y  \n",
       "4             1.0         Urban           Y  "
      ]
     },
     "execution_count": 110,
     "metadata": {},
     "output_type": "execute_result"
    }
   ],
   "source": [
    "df_train.head()"
   ]
  },
  {
   "cell_type": "code",
   "execution_count": 111,
   "metadata": {},
   "outputs": [
    {
     "data": {
      "text/plain": [
       "<matplotlib.axes._subplots.AxesSubplot at 0x4652056438>"
      ]
     },
     "execution_count": 111,
     "metadata": {},
     "output_type": "execute_result"
    },
    {
     "data": {
      "image/png": "[encoded data removed]",
      "text/plain": [
       "<Figure size 432x288 with 1 Axes>"
      ]
     },
     "metadata": {},
     "output_type": "display_data"
    }
   ],
   "source": [
    "sns.countplot(y = 'Gender', hue = 'Loan_Status', data = df_train)\n",
    "#sns.countplot(y = 'Married', hue = 'Loan_Status', data = df_train)"
   ]
  },
  {
   "cell_type": "code",
   "execution_count": 112,
   "metadata": {},
   "outputs": [
    {
     "data": {
      "text/plain": [
       "<matplotlib.axes._subplots.AxesSubplot at 0x4651bfe320>"
      ]
     },
     "execution_count": 112,
     "metadata": {},
     "output_type": "execute_result"
    },
    {
     "data": {
      "image/png": "[encoded data removed]",
      "text/plain": [
       "<Figure size 432x288 with 1 Axes>"
      ]
     },
     "metadata": {},
     "output_type": "display_data"
    }
   ],
   "source": [
    "sns.countplot(y = 'Married', hue = 'Loan_Status', data = df_train)\n"
   ]
  },
  {
   "cell_type": "code",
   "execution_count": 113,
   "metadata": {},
   "outputs": [
    {
     "data": {
      "text/plain": [
       "<matplotlib.axes._subplots.AxesSubplot at 0x463b614f60>"
      ]
     },
     "execution_count": 113,
     "metadata": {},
     "output_type": "execute_result"
    },
    {
     "data": {
      "image/png": "[encoded data removed]",
      "text/plain": [
       "<Figure size 432x288 with 1 Axes>"
      ]
     },
     "metadata": {},
     "output_type": "display_data"
    }
   ],
   "source": [
    "sns.countplot(y = 'Self_Employed', hue = 'Loan_Status', data = df_train)"
   ]
  },
  {
   "cell_type": "code",
   "execution_count": 114,
   "metadata": {},
   "outputs": [
    {
     "data": {
      "text/plain": [
       "<matplotlib.axes._subplots.AxesSubplot at 0x463b675710>"
      ]
     },
     "execution_count": 114,
     "metadata": {},
     "output_type": "execute_result"
    },
    {
     "data": {
      "image/png": "[encoded data removed]",
      "text/plain": [
       "<Figure size 432x288 with 1 Axes>"
      ]
     },
     "metadata": {},
     "output_type": "display_data"
    }
   ],
   "source": [
    "sns.countplot(y = 'Credit_History', hue = 'Loan_Status', data = df_train)"
   ]
  },
  {
   "cell_type": "code",
   "execution_count": 115,
   "metadata": {},
   "outputs": [
    {
     "data": {
      "text/plain": [
       "<matplotlib.axes._subplots.AxesSubplot at 0x463b6ce9e8>"
      ]
     },
     "execution_count": 115,
     "metadata": {},
     "output_type": "execute_result"
    },
    {
     "data": {
      "image/png": "[encoded data removed]",
      "text/plain": [
       "<Figure size 432x288 with 1 Axes>"
      ]
     },
     "metadata": {},
     "output_type": "display_data"
    }
   ],
   "source": [
    "sns.countplot(y = 'Property_Area', hue = 'Loan_Status', data = df_train)"
   ]
  },
  {
   "cell_type": "code",
   "execution_count": 116,
   "metadata": {},
   "outputs": [
    {
     "data": {
      "text/plain": [
       "<matplotlib.axes._subplots.AxesSubplot at 0x4652462ba8>"
      ]
     },
     "execution_count": 116,
     "metadata": {},
     "output_type": "execute_result"
    },
    {
     "data": {
      "image/png": "[encoded data removed]",
      "text/plain": [
       "<Figure size 432x288 with 1 Axes>"
      ]
     },
     "metadata": {},
     "output_type": "display_data"
    }
   ],
   "source": [
    "sns.countplot(y = 'Loan_Amount_Term', hue = 'Loan_Status', data = df_train)"
   ]
  },
  {
   "cell_type": "code",
   "execution_count": 117,
   "metadata": {},
   "outputs": [
    {
     "name": "stderr",
     "output_type": "stream",
     "text": [
      "C:\\Users\\user\\Anaconda3\\lib\\site-packages\\seaborn\\axisgrid.py:230: UserWarning: The `size` paramter has been renamed to `height`; please update your code.\n",
      "  warnings.warn(msg, UserWarning)\n"
     ]
    },
    {
     "data": {
      "text/plain": [
       "<seaborn.axisgrid.FacetGrid at 0x465246bd68>"
      ]
     },
     "execution_count": 117,
     "metadata": {},
     "output_type": "execute_result"
    },
    {
     "data": {
      "image/png": "[encoded data removed]",
      "text/plain": [
       "<Figure size 514.88x316.8 with 4 Axes>"
      ]
     },
     "metadata": {},
     "output_type": "display_data"
    }
   ],
   "source": [
    "grid = sns.FacetGrid(df_train, row='Gender', col='Married', size=2.2, aspect=1.6)\n",
    "grid.map(plt.hist, 'ApplicantIncome', alpha=.5, bins=10)\n",
    "grid.add_legend()"
   ]
  },
  {
   "cell_type": "code",
   "execution_count": 118,
   "metadata": {},
   "outputs": [
    {
     "name": "stderr",
     "output_type": "stream",
     "text": [
      "C:\\Users\\user\\Anaconda3\\lib\\site-packages\\seaborn\\axisgrid.py:230: UserWarning: The `size` paramter has been renamed to `height`; please update your code.\n",
      "  warnings.warn(msg, UserWarning)\n"
     ]
    },
    {
     "data": {
      "text/plain": [
       "<seaborn.axisgrid.FacetGrid at 0x4652687320>"
      ]
     },
     "execution_count": 118,
     "metadata": {},
     "output_type": "execute_result"
    },
    {
     "data": {
      "image/png": "[encoded data removed]",
      "text/plain": [
       "<Figure size 514.88x316.8 with 4 Axes>"
      ]
     },
     "metadata": {},
     "output_type": "display_data"
    }
   ],
   "source": [
    "grid = sns.FacetGrid(df_train, row='Gender', col='Education', size=2.2, aspect=1.6)\n",
    "grid.map(plt.hist, 'ApplicantIncome', alpha=.5, bins=10)\n",
    "grid.add_legend()"
   ]
  },
  {
   "cell_type": "code",
   "execution_count": 119,
   "metadata": {},
   "outputs": [
    {
     "name": "stderr",
     "output_type": "stream",
     "text": [
      "C:\\Users\\user\\Anaconda3\\lib\\site-packages\\seaborn\\axisgrid.py:230: UserWarning: The `size` paramter has been renamed to `height`; please update your code.\n",
      "  warnings.warn(msg, UserWarning)\n"
     ]
    },
    {
     "data": {
      "text/plain": [
       "<seaborn.axisgrid.FacetGrid at 0x4652818a58>"
      ]
     },
     "execution_count": 119,
     "metadata": {},
     "output_type": "execute_result"
    },
    {
     "data": {
      "image/png": "[encoded data removed]",
      "text/plain": [
       "<Figure size 514.88x316.8 with 4 Axes>"
      ]
     },
     "metadata": {},
     "output_type": "display_data"
    }
   ],
   "source": [
    "grid = sns.FacetGrid(df_train, row='Married', col='Education', size=2.2, aspect=1.6)\n",
    "grid.map(plt.hist, 'ApplicantIncome', alpha=.5, bins=10)\n",
    "grid.add_legend()"
   ]
  },
  {
   "cell_type": "code",
   "execution_count": 120,
   "metadata": {},
   "outputs": [
    {
     "name": "stderr",
     "output_type": "stream",
     "text": [
      "C:\\Users\\user\\Anaconda3\\lib\\site-packages\\seaborn\\axisgrid.py:230: UserWarning: The `size` paramter has been renamed to `height`; please update your code.\n",
      "  warnings.warn(msg, UserWarning)\n"
     ]
    },
    {
     "data": {
      "text/plain": [
       "<seaborn.axisgrid.FacetGrid at 0x465265fd30>"
      ]
     },
     "execution_count": 120,
     "metadata": {},
     "output_type": "execute_result"
    },
    {
     "data": {
      "image/png": "[encoded data removed]",
      "text/plain": [
       "<Figure size 514.88x316.8 with 4 Axes>"
      ]
     },
     "metadata": {},
     "output_type": "display_data"
    }
   ],
   "source": [
    "grid = sns.FacetGrid(df_train, row='Self_Employed', col='Education', size=2.2, aspect=1.6)\n",
    "grid.map(plt.hist, 'ApplicantIncome', alpha=.5, bins=10)\n",
    "grid.add_legend()"
   ]
  },
  {
   "cell_type": "code",
   "execution_count": 121,
   "metadata": {},
   "outputs": [
    {
     "data": {
      "text/plain": [
       "0     360\n",
       "1     102\n",
       "2     101\n",
       "3+     51\n",
       "Name: Dependents, dtype: int64"
      ]
     },
     "execution_count": 121,
     "metadata": {},
     "output_type": "execute_result"
    }
   ],
   "source": [
    "df_train.Dependents.value_counts()"
   ]
  },
  {
   "cell_type": "code",
   "execution_count": 122,
   "metadata": {},
   "outputs": [
    {
     "name": "stderr",
     "output_type": "stream",
     "text": [
      "C:\\Users\\user\\Anaconda3\\lib\\site-packages\\seaborn\\axisgrid.py:230: UserWarning: The `size` paramter has been renamed to `height`; please update your code.\n",
      "  warnings.warn(msg, UserWarning)\n"
     ]
    },
    {
     "data": {
      "text/plain": [
       "<seaborn.axisgrid.FacetGrid at 0x4653b047f0>"
      ]
     },
     "execution_count": 122,
     "metadata": {},
     "output_type": "execute_result"
    },
    {
     "data": {
      "image/png": "[encoded data removed]",
      "text/plain": [
       "<Figure size 1482.56x460.8 with 8 Axes>"
      ]
     },
     "metadata": {},
     "output_type": "display_data"
    }
   ],
   "source": [
    "grid = sns.FacetGrid(df_train, row='Married', col='Dependents', size=3.2, aspect=1.6)\n",
    "grid.map(plt.hist, 'ApplicantIncome', alpha=.5, bins=10)\n",
    "grid.add_legend()"
   ]
  },
  {
   "cell_type": "code",
   "execution_count": 123,
   "metadata": {},
   "outputs": [
    {
     "name": "stderr",
     "output_type": "stream",
     "text": [
      "C:\\Users\\user\\Anaconda3\\lib\\site-packages\\seaborn\\axisgrid.py:230: UserWarning: The `size` paramter has been renamed to `height`; please update your code.\n",
      "  warnings.warn(msg, UserWarning)\n"
     ]
    },
    {
     "data": {
      "text/plain": [
       "<seaborn.axisgrid.FacetGrid at 0x4653fefb70>"
      ]
     },
     "execution_count": 123,
     "metadata": {},
     "output_type": "execute_result"
    },
    {
     "data": {
      "image/png": "[encoded data removed]",
      "text/plain": [
       "<Figure size 1482.56x460.8 with 8 Axes>"
      ]
     },
     "metadata": {},
     "output_type": "display_data"
    }
   ],
   "source": [
    "grid = sns.FacetGrid(df_train, row='Self_Employed', col='Dependents', size=3.2, aspect=1.6)\n",
    "grid.map(plt.hist, 'ApplicantIncome', alpha=.5, bins=10)\n",
    "grid.add_legend()"
   ]
  },
  {
   "cell_type": "code",
   "execution_count": null,
   "metadata": {},
   "outputs": [],
   "source": []
  },
  {
   "cell_type": "code",
   "execution_count": 124,
   "metadata": {},
   "outputs": [
    {
     "name": "stderr",
     "output_type": "stream",
     "text": [
      "C:\\Users\\user\\Anaconda3\\lib\\site-packages\\seaborn\\axisgrid.py:230: UserWarning: The `size` paramter has been renamed to `height`; please update your code.\n",
      "  warnings.warn(msg, UserWarning)\n"
     ]
    },
    {
     "data": {
      "text/plain": [
       "<seaborn.axisgrid.FacetGrid at 0x465434b748>"
      ]
     },
     "execution_count": 124,
     "metadata": {},
     "output_type": "execute_result"
    },
    {
     "data": {
      "image/png": "[encoded data removed]",
      "text/plain": [
       "<Figure size 1482.56x460.8 with 8 Axes>"
      ]
     },
     "metadata": {},
     "output_type": "display_data"
    }
   ],
   "source": [
    "grid = sns.FacetGrid(df_train, row='Gender', col='Dependents', size=3.2, aspect=1.6)\n",
    "grid.map(plt.hist, 'ApplicantIncome', alpha=.5, bins=10)\n",
    "grid.add_legend()"
   ]
  },
  {
   "cell_type": "code",
   "execution_count": 125,
   "metadata": {},
   "outputs": [
    {
     "name": "stderr",
     "output_type": "stream",
     "text": [
      "C:\\Users\\user\\Anaconda3\\lib\\site-packages\\seaborn\\axisgrid.py:230: UserWarning: The `size` paramter has been renamed to `height`; please update your code.\n",
      "  warnings.warn(msg, UserWarning)\n"
     ]
    },
    {
     "data": {
      "text/plain": [
       "<seaborn.axisgrid.FacetGrid at 0x4654c3e2e8>"
      ]
     },
     "execution_count": 125,
     "metadata": {},
     "output_type": "execute_result"
    },
    {
     "data": {
      "image/png": "[encoded data removed]",
      "text/plain": [
       "<Figure size 1482.56x460.8 with 8 Axes>"
      ]
     },
     "metadata": {},
     "output_type": "display_data"
    }
   ],
   "source": [
    "grid = sns.FacetGrid(df_train, row='Education', col='Dependents', size=3.2, aspect=1.6)\n",
    "grid.map(plt.hist, 'ApplicantIncome', alpha=.5, bins=10)\n",
    "grid.add_legend()"
   ]
  },
  {
   "cell_type": "code",
   "execution_count": 126,
   "metadata": {},
   "outputs": [
    {
     "name": "stderr",
     "output_type": "stream",
     "text": [
      "C:\\Users\\user\\Anaconda3\\lib\\site-packages\\seaborn\\axisgrid.py:230: UserWarning: The `size` paramter has been renamed to `height`; please update your code.\n",
      "  warnings.warn(msg, UserWarning)\n"
     ]
    },
    {
     "data": {
      "text/plain": [
       "<seaborn.axisgrid.FacetGrid at 0x4655c3b630>"
      ]
     },
     "execution_count": 126,
     "metadata": {},
     "output_type": "execute_result"
    },
    {
     "data": {
      "image/png": "[encoded data removed]",
      "text/plain": [
       "<Figure size 1482.56x460.8 with 8 Axes>"
      ]
     },
     "metadata": {},
     "output_type": "display_data"
    }
   ],
   "source": [
    "grid = sns.FacetGrid(df_train, row='Credit_History', col='Dependents', size=3.2, aspect=1.6)\n",
    "grid.map(plt.hist, 'ApplicantIncome', alpha=.5, bins=10)\n",
    "grid.add_legend()"
   ]
  },
  {
   "cell_type": "code",
   "execution_count": 127,
   "metadata": {},
   "outputs": [
    {
     "data": {
      "text/html": [
       "<div>\n",
       "<style scoped>\n",
       "    .dataframe tbody tr th:only-of-type {\n",
       "        vertical-align: middle;\n",
       "    }\n",
       "\n",
       "    .dataframe tbody tr th {\n",
       "        vertical-align: top;\n",
       "    }\n",
       "\n",
       "    .dataframe thead th {\n",
       "        text-align: right;\n",
       "    }\n",
       "</style>\n",
       "<table border=\"1\" class=\"dataframe\">\n",
       "  <thead>\n",
       "    <tr style=\"text-align: right;\">\n",
       "      <th></th>\n",
       "      <th>ApplicantIncome</th>\n",
       "      <th>CoapplicantIncome</th>\n",
       "      <th>LoanAmount</th>\n",
       "      <th>Loan_Amount_Term</th>\n",
       "      <th>Credit_History</th>\n",
       "    </tr>\n",
       "  </thead>\n",
       "  <tbody>\n",
       "    <tr>\n",
       "      <td>ApplicantIncome</td>\n",
       "      <td>1.000000</td>\n",
       "      <td>-0.116605</td>\n",
       "      <td>0.565181</td>\n",
       "      <td>-0.046531</td>\n",
       "      <td>-0.018615</td>\n",
       "    </tr>\n",
       "    <tr>\n",
       "      <td>CoapplicantIncome</td>\n",
       "      <td>-0.116605</td>\n",
       "      <td>1.000000</td>\n",
       "      <td>0.189218</td>\n",
       "      <td>-0.059383</td>\n",
       "      <td>0.011134</td>\n",
       "    </tr>\n",
       "    <tr>\n",
       "      <td>LoanAmount</td>\n",
       "      <td>0.565181</td>\n",
       "      <td>0.189218</td>\n",
       "      <td>1.000000</td>\n",
       "      <td>0.036960</td>\n",
       "      <td>-0.000607</td>\n",
       "    </tr>\n",
       "    <tr>\n",
       "      <td>Loan_Amount_Term</td>\n",
       "      <td>-0.046531</td>\n",
       "      <td>-0.059383</td>\n",
       "      <td>0.036960</td>\n",
       "      <td>1.000000</td>\n",
       "      <td>-0.004705</td>\n",
       "    </tr>\n",
       "    <tr>\n",
       "      <td>Credit_History</td>\n",
       "      <td>-0.018615</td>\n",
       "      <td>0.011134</td>\n",
       "      <td>-0.000607</td>\n",
       "      <td>-0.004705</td>\n",
       "      <td>1.000000</td>\n",
       "    </tr>\n",
       "  </tbody>\n",
       "</table>\n",
       "</div>"
      ],
      "text/plain": [
       "                   ApplicantIncome  CoapplicantIncome  LoanAmount  \\\n",
       "ApplicantIncome           1.000000          -0.116605    0.565181   \n",
       "CoapplicantIncome        -0.116605           1.000000    0.189218   \n",
       "LoanAmount                0.565181           0.189218    1.000000   \n",
       "Loan_Amount_Term         -0.046531          -0.059383    0.036960   \n",
       "Credit_History           -0.018615           0.011134   -0.000607   \n",
       "\n",
       "                   Loan_Amount_Term  Credit_History  \n",
       "ApplicantIncome           -0.046531       -0.018615  \n",
       "CoapplicantIncome         -0.059383        0.011134  \n",
       "LoanAmount                 0.036960       -0.000607  \n",
       "Loan_Amount_Term           1.000000       -0.004705  \n",
       "Credit_History            -0.004705        1.000000  "
      ]
     },
     "execution_count": 127,
     "metadata": {},
     "output_type": "execute_result"
    }
   ],
   "source": [
    "df_train.corr()"
   ]
  },
  {
   "cell_type": "code",
   "execution_count": 128,
   "metadata": {},
   "outputs": [
    {
     "name": "stderr",
     "output_type": "stream",
     "text": [
      "C:\\Users\\user\\Anaconda3\\lib\\site-packages\\seaborn\\axisgrid.py:230: UserWarning: The `size` paramter has been renamed to `height`; please update your code.\n",
      "  warnings.warn(msg, UserWarning)\n"
     ]
    },
    {
     "data": {
      "text/plain": [
       "<seaborn.axisgrid.FacetGrid at 0x46574ff470>"
      ]
     },
     "execution_count": 128,
     "metadata": {},
     "output_type": "execute_result"
    },
    {
     "data": {
      "image/png": "[encoded data removed]",
      "text/plain": [
       "<Figure size 1482.56x460.8 with 8 Axes>"
      ]
     },
     "metadata": {},
     "output_type": "display_data"
    }
   ],
   "source": [
    "grid = sns.FacetGrid(df_train, row='Loan_Status', col='Dependents', size=3.2, aspect=1.6)\n",
    "grid.map(plt.hist, 'ApplicantIncome', alpha=.5, bins=10)\n",
    "grid.add_legend()"
   ]
  },
  {
   "cell_type": "code",
   "execution_count": 129,
   "metadata": {},
   "outputs": [
    {
     "name": "stderr",
     "output_type": "stream",
     "text": [
      "C:\\Users\\user\\Anaconda3\\lib\\site-packages\\seaborn\\axisgrid.py:230: UserWarning: The `size` paramter has been renamed to `height`; please update your code.\n",
      "  warnings.warn(msg, UserWarning)\n"
     ]
    },
    {
     "data": {
      "text/plain": [
       "<seaborn.axisgrid.FacetGrid at 0x46576c3be0>"
      ]
     },
     "execution_count": 129,
     "metadata": {},
     "output_type": "execute_result"
    },
    {
     "data": {
      "image/png": "[encoded data removed]",
      "text/plain": [
       "<Figure size 1482.56x691.2 with 12 Axes>"
      ]
     },
     "metadata": {},
     "output_type": "display_data"
    }
   ],
   "source": [
    "grid = sns.FacetGrid(df_train, row='Property_Area', col='Dependents', size=3.2, aspect=1.6)\n",
    "grid.map(plt.hist, 'ApplicantIncome', alpha=.5, bins=10)\n",
    "grid.add_legend()"
   ]
  },
  {
   "cell_type": "code",
   "execution_count": 130,
   "metadata": {},
   "outputs": [
    {
     "name": "stderr",
     "output_type": "stream",
     "text": [
      "C:\\Users\\user\\Anaconda3\\lib\\site-packages\\seaborn\\axisgrid.py:230: UserWarning: The `size` paramter has been renamed to `height`; please update your code.\n",
      "  warnings.warn(msg, UserWarning)\n"
     ]
    },
    {
     "data": {
      "text/plain": [
       "<seaborn.axisgrid.FacetGrid at 0x46588ab550>"
      ]
     },
     "execution_count": 130,
     "metadata": {},
     "output_type": "execute_result"
    },
    {
     "data": {
      "image/png": "[encoded data removed]",
      "text/plain": [
       "<Figure size 745.28x460.8 with 4 Axes>"
      ]
     },
     "metadata": {},
     "output_type": "display_data"
    }
   ],
   "source": [
    "grid = sns.FacetGrid(df_train, row='Married', col='Credit_History', size=3.2, aspect=1.6)\n",
    "grid.map(plt.hist, 'ApplicantIncome', alpha=.5, bins=10)\n",
    "grid.add_legend()"
   ]
  },
  {
   "cell_type": "code",
   "execution_count": 131,
   "metadata": {},
   "outputs": [
    {
     "name": "stderr",
     "output_type": "stream",
     "text": [
      "C:\\Users\\user\\Anaconda3\\lib\\site-packages\\seaborn\\axisgrid.py:230: UserWarning: The `size` paramter has been renamed to `height`; please update your code.\n",
      "  warnings.warn(msg, UserWarning)\n"
     ]
    },
    {
     "data": {
      "text/plain": [
       "<seaborn.axisgrid.FacetGrid at 0x4658999208>"
      ]
     },
     "execution_count": 131,
     "metadata": {},
     "output_type": "execute_result"
    },
    {
     "data": {
      "image/png": "[encoded data removed]",
      "text/plain": [
       "<Figure size 768.32x316.8 with 6 Axes>"
      ]
     },
     "metadata": {},
     "output_type": "display_data"
    }
   ],
   "source": [
    "grid = sns.FacetGrid(df_train, row='Credit_History', col='Property_Area', size=2.2, aspect=1.6)\n",
    "grid.map(plt.hist, 'ApplicantIncome', alpha=.5, bins=10)\n",
    "grid.add_legend()"
   ]
  },
  {
   "cell_type": "code",
   "execution_count": 132,
   "metadata": {},
   "outputs": [
    {
     "name": "stderr",
     "output_type": "stream",
     "text": [
      "C:\\Users\\user\\Anaconda3\\lib\\site-packages\\seaborn\\axisgrid.py:230: UserWarning: The `size` paramter has been renamed to `height`; please update your code.\n",
      "  warnings.warn(msg, UserWarning)\n"
     ]
    },
    {
     "data": {
      "text/plain": [
       "<seaborn.axisgrid.FacetGrid at 0x465956cdd8>"
      ]
     },
     "execution_count": 132,
     "metadata": {},
     "output_type": "execute_result"
    },
    {
     "data": {
      "image/png": "[encoded data removed]",
      "text/plain": [
       "<Figure size 514.88x316.8 with 4 Axes>"
      ]
     },
     "metadata": {},
     "output_type": "display_data"
    }
   ],
   "source": [
    "grid = sns.FacetGrid(df_train, row='Education', col='Credit_History', size=2.2, aspect=1.6)\n",
    "grid.map(plt.hist, 'ApplicantIncome', alpha=.5, bins=10)\n",
    "grid.add_legend()"
   ]
  },
  {
   "cell_type": "code",
   "execution_count": 133,
   "metadata": {},
   "outputs": [
    {
     "name": "stderr",
     "output_type": "stream",
     "text": [
      "C:\\Users\\user\\Anaconda3\\lib\\site-packages\\seaborn\\axisgrid.py:230: UserWarning: The `size` paramter has been renamed to `height`; please update your code.\n",
      "  warnings.warn(msg, UserWarning)\n"
     ]
    },
    {
     "data": {
      "text/plain": [
       "<seaborn.axisgrid.FacetGrid at 0x4659693b00>"
      ]
     },
     "execution_count": 133,
     "metadata": {},
     "output_type": "execute_result"
    },
    {
     "data": {
      "image/png": "[encoded data removed]",
      "text/plain": [
       "<Figure size 768.32x316.8 with 6 Axes>"
      ]
     },
     "metadata": {},
     "output_type": "display_data"
    }
   ],
   "source": [
    "grid = sns.FacetGrid(df_train, row='Credit_History', col='Property_Area', size=2.2, aspect=1.6)\n",
    "grid.map(plt.hist, 'LoanAmount', alpha=.5, bins=10)\n",
    "grid.add_legend()"
   ]
  },
  {
   "cell_type": "code",
   "execution_count": 134,
   "metadata": {},
   "outputs": [
    {
     "data": {
      "text/plain": [
       "(array([533.,  59.,  15.,   0.,   4.,   0.,   1.,   1.,   0.,   1.]),\n",
       " array([  150.,  8235., 16320., 24405., 32490., 40575., 48660., 56745.,\n",
       "        64830., 72915., 81000.]),\n",
       " <a list of 10 Patch objects>)"
      ]
     },
     "execution_count": 134,
     "metadata": {},
     "output_type": "execute_result"
    },
    {
     "data": {
      "image/png": "[encoded data removed]",
      "text/plain": [
       "<Figure size 432x288 with 1 Axes>"
      ]
     },
     "metadata": {},
     "output_type": "display_data"
    }
   ],
   "source": [
    "income = df_train['ApplicantIncome']\n",
    "plt.hist(income)\n"
   ]
  },
  {
   "cell_type": "code",
   "execution_count": 135,
   "metadata": {},
   "outputs": [
    {
     "data": {
      "text/plain": [
       "(array([  2.,   1.,   2.,  23., 231., 243.,  75.,  29.,   5.,   3.]),\n",
       " array([ 5.01063529,  5.63979221,  6.26894912,  6.89810604,  7.52726295,\n",
       "         8.15641986,  8.78557678,  9.41473369, 10.04389061, 10.67304752,\n",
       "        11.30220443]),\n",
       " <a list of 10 Patch objects>)"
      ]
     },
     "execution_count": 135,
     "metadata": {},
     "output_type": "execute_result"
    },
    {
     "data": {
      "image/png": "[encoded data removed]",
      "text/plain": [
       "<Figure size 432x288 with 1 Axes>"
      ]
     },
     "metadata": {},
     "output_type": "display_data"
    }
   ],
   "source": [
    "income = df_train['ApplicantIncome']\n",
    "plt.hist(np.log(income))\n"
   ]
  },
  {
   "cell_type": "code",
   "execution_count": 136,
   "metadata": {},
   "outputs": [
    {
     "data": {
      "text/plain": [
       "(array([561.,  46.,   3.,   0.,   2.,   0.,   0.,   0.,   1.,   1.]),\n",
       " array([    0. ,  4166.7,  8333.4, 12500.1, 16666.8, 20833.5, 25000.2,\n",
       "        29166.9, 33333.6, 37500.3, 41667. ]),\n",
       " <a list of 10 Patch objects>)"
      ]
     },
     "execution_count": 136,
     "metadata": {},
     "output_type": "execute_result"
    },
    {
     "data": {
      "image/png": "[encoded data removed]",
      "text/plain": [
       "<Figure size 432x288 with 1 Axes>"
      ]
     },
     "metadata": {},
     "output_type": "display_data"
    }
   ],
   "source": [
    "plt.hist(df_train.CoapplicantIncome)"
   ]
  },
  {
   "cell_type": "code",
   "execution_count": 137,
   "metadata": {},
   "outputs": [],
   "source": [
    "#plt.hist(np.log(df_train.CoapplicantIncome))"
   ]
  },
  {
   "cell_type": "code",
   "execution_count": 138,
   "metadata": {},
   "outputs": [
    {
     "data": {
      "text/plain": [
       "(array([ 72., 332., 143.,  33.,  15.,   6.,   5.,   3.,   3.,   2.]),\n",
       " array([  9. ,  78.1, 147.2, 216.3, 285.4, 354.5, 423.6, 492.7, 561.8,\n",
       "        630.9, 700. ]),\n",
       " <a list of 10 Patch objects>)"
      ]
     },
     "execution_count": 138,
     "metadata": {},
     "output_type": "execute_result"
    },
    {
     "data": {
      "image/png": "[encoded data removed]",
      "text/plain": [
       "<Figure size 432x288 with 1 Axes>"
      ]
     },
     "metadata": {},
     "output_type": "display_data"
    }
   ],
   "source": [
    "plt.hist(df_train.LoanAmount)"
   ]
  },
  {
   "cell_type": "code",
   "execution_count": 139,
   "metadata": {},
   "outputs": [
    {
     "data": {
      "text/plain": [
       "(array([  1.,   1.,   5.,  16.,  49., 200., 250.,  61.,  19.,  12.]),\n",
       " array([2.19722458, 2.63261015, 3.06799573, 3.5033813 , 3.93876688,\n",
       "        4.37415246, 4.80953803, 5.24492361, 5.68030918, 6.11569476,\n",
       "        6.55108034]),\n",
       " <a list of 10 Patch objects>)"
      ]
     },
     "execution_count": 139,
     "metadata": {},
     "output_type": "execute_result"
    },
    {
     "data": {
      "image/png": "[encoded data removed]",
      "text/plain": [
       "<Figure size 432x288 with 1 Axes>"
      ]
     },
     "metadata": {},
     "output_type": "display_data"
    }
   ],
   "source": [
    "plt.hist(np.log(df_train.LoanAmount))"
   ]
  },
  {
   "cell_type": "code",
   "execution_count": 140,
   "metadata": {},
   "outputs": [
    {
     "data": {
      "text/plain": [
       "{'whiskers': [<matplotlib.lines.Line2D at 0x465ab93c88>,\n",
       "  <matplotlib.lines.Line2D at 0x465ab9c208>],\n",
       " 'caps': [<matplotlib.lines.Line2D at 0x465ab9c668>,\n",
       "  <matplotlib.lines.Line2D at 0x465ab9cac8>],\n",
       " 'boxes': [<matplotlib.lines.Line2D at 0x465ab93b38>],\n",
       " 'medians': [<matplotlib.lines.Line2D at 0x465ab9cef0>],\n",
       " 'fliers': [<matplotlib.lines.Line2D at 0x465aba4390>],\n",
       " 'means': []}"
      ]
     },
     "execution_count": 140,
     "metadata": {},
     "output_type": "execute_result"
    },
    {
     "data": {
      "image/png": "[encoded data removed]",
      "text/plain": [
       "<Figure size 432x288 with 1 Axes>"
      ]
     },
     "metadata": {},
     "output_type": "display_data"
    }
   ],
   "source": [
    "plt.boxplot(df_train.ApplicantIncome)\n"
   ]
  },
  {
   "cell_type": "code",
   "execution_count": 141,
   "metadata": {},
   "outputs": [
    {
     "data": {
      "text/plain": [
       "{'whiskers': [<matplotlib.lines.Line2D at 0x465abfc128>,\n",
       "  <matplotlib.lines.Line2D at 0x465abfc5c0>],\n",
       " 'caps': [<matplotlib.lines.Line2D at 0x465abfc9e8>,\n",
       "  <matplotlib.lines.Line2D at 0x465abfce10>],\n",
       " 'boxes': [<matplotlib.lines.Line2D at 0x465abf0f98>],\n",
       " 'medians': [<matplotlib.lines.Line2D at 0x465ac04278>],\n",
       " 'fliers': [<matplotlib.lines.Line2D at 0x465ac04630>],\n",
       " 'means': []}"
      ]
     },
     "execution_count": 141,
     "metadata": {},
     "output_type": "execute_result"
    },
    {
     "data": {
      "image/png": "[encoded data removed]",
      "text/plain": [
       "<Figure size 432x288 with 1 Axes>"
      ]
     },
     "metadata": {},
     "output_type": "display_data"
    }
   ],
   "source": [
    "plt.boxplot(df_train.CoapplicantIncome)"
   ]
  },
  {
   "cell_type": "code",
   "execution_count": 142,
   "metadata": {},
   "outputs": [
    {
     "data": {
      "text/html": [
       "<div>\n",
       "<style scoped>\n",
       "    .dataframe tbody tr th:only-of-type {\n",
       "        vertical-align: middle;\n",
       "    }\n",
       "\n",
       "    .dataframe tbody tr th {\n",
       "        vertical-align: top;\n",
       "    }\n",
       "\n",
       "    .dataframe thead th {\n",
       "        text-align: right;\n",
       "    }\n",
       "</style>\n",
       "<table border=\"1\" class=\"dataframe\">\n",
       "  <thead>\n",
       "    <tr style=\"text-align: right;\">\n",
       "      <th></th>\n",
       "      <th>Loan_ID</th>\n",
       "      <th>Gender</th>\n",
       "      <th>Married</th>\n",
       "      <th>Dependents</th>\n",
       "      <th>Education</th>\n",
       "      <th>Self_Employed</th>\n",
       "      <th>ApplicantIncome</th>\n",
       "      <th>CoapplicantIncome</th>\n",
       "      <th>LoanAmount</th>\n",
       "      <th>Loan_Amount_Term</th>\n",
       "      <th>Credit_History</th>\n",
       "      <th>Property_Area</th>\n",
       "      <th>Loan_Status</th>\n",
       "    </tr>\n",
       "  </thead>\n",
       "  <tbody>\n",
       "    <tr>\n",
       "      <td>0</td>\n",
       "      <td>LP001002</td>\n",
       "      <td>Male</td>\n",
       "      <td>No</td>\n",
       "      <td>0</td>\n",
       "      <td>Graduate</td>\n",
       "      <td>No</td>\n",
       "      <td>5849</td>\n",
       "      <td>0.0</td>\n",
       "      <td>128.0</td>\n",
       "      <td>360.0</td>\n",
       "      <td>1.0</td>\n",
       "      <td>Urban</td>\n",
       "      <td>Y</td>\n",
       "    </tr>\n",
       "    <tr>\n",
       "      <td>1</td>\n",
       "      <td>LP001003</td>\n",
       "      <td>Male</td>\n",
       "      <td>Yes</td>\n",
       "      <td>1</td>\n",
       "      <td>Graduate</td>\n",
       "      <td>No</td>\n",
       "      <td>4583</td>\n",
       "      <td>1508.0</td>\n",
       "      <td>128.0</td>\n",
       "      <td>360.0</td>\n",
       "      <td>1.0</td>\n",
       "      <td>Rural</td>\n",
       "      <td>N</td>\n",
       "    </tr>\n",
       "    <tr>\n",
       "      <td>2</td>\n",
       "      <td>LP001005</td>\n",
       "      <td>Male</td>\n",
       "      <td>Yes</td>\n",
       "      <td>0</td>\n",
       "      <td>Graduate</td>\n",
       "      <td>Yes</td>\n",
       "      <td>3000</td>\n",
       "      <td>0.0</td>\n",
       "      <td>66.0</td>\n",
       "      <td>360.0</td>\n",
       "      <td>1.0</td>\n",
       "      <td>Urban</td>\n",
       "      <td>Y</td>\n",
       "    </tr>\n",
       "    <tr>\n",
       "      <td>3</td>\n",
       "      <td>LP001006</td>\n",
       "      <td>Male</td>\n",
       "      <td>Yes</td>\n",
       "      <td>0</td>\n",
       "      <td>Not Graduate</td>\n",
       "      <td>No</td>\n",
       "      <td>2583</td>\n",
       "      <td>2358.0</td>\n",
       "      <td>120.0</td>\n",
       "      <td>360.0</td>\n",
       "      <td>1.0</td>\n",
       "      <td>Urban</td>\n",
       "      <td>Y</td>\n",
       "    </tr>\n",
       "    <tr>\n",
       "      <td>4</td>\n",
       "      <td>LP001008</td>\n",
       "      <td>Male</td>\n",
       "      <td>No</td>\n",
       "      <td>0</td>\n",
       "      <td>Graduate</td>\n",
       "      <td>No</td>\n",
       "      <td>6000</td>\n",
       "      <td>0.0</td>\n",
       "      <td>141.0</td>\n",
       "      <td>360.0</td>\n",
       "      <td>1.0</td>\n",
       "      <td>Urban</td>\n",
       "      <td>Y</td>\n",
       "    </tr>\n",
       "  </tbody>\n",
       "</table>\n",
       "</div>"
      ],
      "text/plain": [
       "    Loan_ID Gender Married Dependents     Education Self_Employed  \\\n",
       "0  LP001002   Male      No          0      Graduate            No   \n",
       "1  LP001003   Male     Yes          1      Graduate            No   \n",
       "2  LP001005   Male     Yes          0      Graduate           Yes   \n",
       "3  LP001006   Male     Yes          0  Not Graduate            No   \n",
       "4  LP001008   Male      No          0      Graduate            No   \n",
       "\n",
       "   ApplicantIncome  CoapplicantIncome  LoanAmount  Loan_Amount_Term  \\\n",
       "0             5849                0.0       128.0             360.0   \n",
       "1             4583             1508.0       128.0             360.0   \n",
       "2             3000                0.0        66.0             360.0   \n",
       "3             2583             2358.0       120.0             360.0   \n",
       "4             6000                0.0       141.0             360.0   \n",
       "\n",
       "   Credit_History Property_Area Loan_Status  \n",
       "0             1.0         Urban           Y  \n",
       "1             1.0         Rural           N  \n",
       "2             1.0         Urban           Y  \n",
       "3             1.0         Urban           Y  \n",
       "4             1.0         Urban           Y  "
      ]
     },
     "execution_count": 142,
     "metadata": {},
     "output_type": "execute_result"
    }
   ],
   "source": [
    "df_train.head()"
   ]
  },
  {
   "cell_type": "code",
   "execution_count": 143,
   "metadata": {},
   "outputs": [],
   "source": [
    "code_numeric = {'Male': 1, 'Female': 2,\n",
    "                'Yes': 1, 'No': 2,\n",
    "                'Graduate': 1, 'Not Graduate': 2,\n",
    "                'Urban': 3, 'Semiurban': 2,'Rural': 1,\n",
    "                'Y': 1, 'N': 0,\n",
    "                '3+': 3}"
   ]
  },
  {
   "cell_type": "code",
   "execution_count": 144,
   "metadata": {},
   "outputs": [],
   "source": [
    "df_train = df_train.applymap(lambda s: code_numeric.get(s) if s in code_numeric else s)\n",
    "df_test = df_test.applymap(lambda s: code_numeric.get(s) if s in code_numeric else s)\n"
   ]
  },
  {
   "cell_type": "code",
   "execution_count": 145,
   "metadata": {},
   "outputs": [],
   "source": [
    "#drop the uniques loan id\n",
    "df_train.drop('Loan_ID', axis = 1, inplace = True)"
   ]
  },
  {
   "cell_type": "code",
   "execution_count": 146,
   "metadata": {},
   "outputs": [],
   "source": [
    "df_test.drop('Loan_ID', axis = 1, inplace = True)"
   ]
  },
  {
   "cell_type": "code",
   "execution_count": 147,
   "metadata": {},
   "outputs": [
    {
     "data": {
      "text/plain": [
       "0    360\n",
       "1    102\n",
       "2    101\n",
       "3     51\n",
       "Name: Dependents, dtype: int64"
      ]
     },
     "execution_count": 147,
     "metadata": {},
     "output_type": "execute_result"
    }
   ],
   "source": [
    "df_train['Dependents'].value_counts()"
   ]
  },
  {
   "cell_type": "code",
   "execution_count": 148,
   "metadata": {},
   "outputs": [
    {
     "name": "stdout",
     "output_type": "stream",
     "text": [
      "<class 'pandas.core.frame.DataFrame'>\n",
      "RangeIndex: 614 entries, 0 to 613\n",
      "Data columns (total 12 columns):\n",
      "Gender               614 non-null int64\n",
      "Married              614 non-null int64\n",
      "Dependents           614 non-null object\n",
      "Education            614 non-null int64\n",
      "Self_Employed        614 non-null int64\n",
      "ApplicantIncome      614 non-null int64\n",
      "CoapplicantIncome    614 non-null float64\n",
      "LoanAmount           614 non-null float64\n",
      "Loan_Amount_Term     614 non-null float64\n",
      "Credit_History       614 non-null float64\n",
      "Property_Area        614 non-null int64\n",
      "Loan_Status          614 non-null int64\n",
      "dtypes: float64(4), int64(7), object(1)\n",
      "memory usage: 57.7+ KB\n"
     ]
    }
   ],
   "source": [
    "df_train.info()"
   ]
  },
  {
   "cell_type": "code",
   "execution_count": 149,
   "metadata": {},
   "outputs": [
    {
     "data": {
      "text/plain": [
       "0    360\n",
       "1    102\n",
       "2    101\n",
       "3     51\n",
       "Name: Dependents, dtype: int64"
      ]
     },
     "execution_count": 149,
     "metadata": {},
     "output_type": "execute_result"
    }
   ],
   "source": [
    "df_train['Dependents'].value_counts()"
   ]
  },
  {
   "cell_type": "code",
   "execution_count": 150,
   "metadata": {},
   "outputs": [
    {
     "name": "stdout",
     "output_type": "stream",
     "text": [
      "<class 'pandas.core.frame.DataFrame'>\n",
      "RangeIndex: 367 entries, 0 to 366\n",
      "Data columns (total 11 columns):\n",
      "Gender               367 non-null int64\n",
      "Married              367 non-null int64\n",
      "Dependents           367 non-null object\n",
      "Education            367 non-null int64\n",
      "Self_Employed        367 non-null int64\n",
      "ApplicantIncome      367 non-null int64\n",
      "CoapplicantIncome    367 non-null int64\n",
      "LoanAmount           367 non-null float64\n",
      "Loan_Amount_Term     367 non-null float64\n",
      "Credit_History       367 non-null float64\n",
      "Property_Area        367 non-null int64\n",
      "dtypes: float64(3), int64(7), object(1)\n",
      "memory usage: 31.7+ KB\n"
     ]
    }
   ],
   "source": [
    "df_test.info()"
   ]
  },
  {
   "cell_type": "code",
   "execution_count": 151,
   "metadata": {},
   "outputs": [],
   "source": [
    "Dependents_ = pd.to_numeric(df_train.Dependents)\n",
    "Dependents__ = pd.to_numeric(df_test.Dependents)\n",
    "\n",
    "df_train.drop(['Dependents'], axis = 1, inplace = True)\n",
    "df_test.drop(['Dependents'], axis = 1, inplace = True)\n",
    "\n",
    "df_train = pd.concat([df_train, Dependents_], axis = 1)\n",
    "df_test = pd.concat([df_test, Dependents__], axis = 1)\n",
    "\n"
   ]
  },
  {
   "cell_type": "code",
   "execution_count": 152,
   "metadata": {},
   "outputs": [
    {
     "name": "stdout",
     "output_type": "stream",
     "text": [
      "<class 'pandas.core.frame.DataFrame'>\n",
      "RangeIndex: 367 entries, 0 to 366\n",
      "Data columns (total 11 columns):\n",
      "Gender               367 non-null int64\n",
      "Married              367 non-null int64\n",
      "Education            367 non-null int64\n",
      "Self_Employed        367 non-null int64\n",
      "ApplicantIncome      367 non-null int64\n",
      "CoapplicantIncome    367 non-null int64\n",
      "LoanAmount           367 non-null float64\n",
      "Loan_Amount_Term     367 non-null float64\n",
      "Credit_History       367 non-null float64\n",
      "Property_Area        367 non-null int64\n",
      "Dependents           367 non-null int64\n",
      "dtypes: float64(3), int64(8)\n",
      "memory usage: 31.7 KB\n"
     ]
    }
   ],
   "source": [
    "df_test.info()"
   ]
  },
  {
   "cell_type": "code",
   "execution_count": 153,
   "metadata": {},
   "outputs": [
    {
     "name": "stdout",
     "output_type": "stream",
     "text": [
      "<class 'pandas.core.frame.DataFrame'>\n",
      "RangeIndex: 614 entries, 0 to 613\n",
      "Data columns (total 12 columns):\n",
      "Gender               614 non-null int64\n",
      "Married              614 non-null int64\n",
      "Education            614 non-null int64\n",
      "Self_Employed        614 non-null int64\n",
      "ApplicantIncome      614 non-null int64\n",
      "CoapplicantIncome    614 non-null float64\n",
      "LoanAmount           614 non-null float64\n",
      "Loan_Amount_Term     614 non-null float64\n",
      "Credit_History       614 non-null float64\n",
      "Property_Area        614 non-null int64\n",
      "Loan_Status          614 non-null int64\n",
      "Dependents           614 non-null int64\n",
      "dtypes: float64(4), int64(8)\n",
      "memory usage: 57.7 KB\n"
     ]
    }
   ],
   "source": [
    "df_train.info()"
   ]
  },
  {
   "cell_type": "code",
   "execution_count": 154,
   "metadata": {},
   "outputs": [
    {
     "data": {
      "text/plain": [
       "<matplotlib.axes._subplots.AxesSubplot at 0x465ac38a58>"
      ]
     },
     "execution_count": 154,
     "metadata": {},
     "output_type": "execute_result"
    },
    {
     "data": {
      "image/png": "[encoded data removed]",
      "text/plain": [
       "<Figure size 432x288 with 2 Axes>"
      ]
     },
     "metadata": {},
     "output_type": "display_data"
    }
   ],
   "source": [
    "sns.heatmap(df_train.corr())"
   ]
  },
  {
   "cell_type": "code",
   "execution_count": 155,
   "metadata": {},
   "outputs": [],
   "source": [
    "y = df_train['Loan_Status']\n",
    "X = df_train.drop('Loan_Status', axis = 1)"
   ]
  },
  {
   "cell_type": "code",
   "execution_count": 171,
   "metadata": {},
   "outputs": [],
   "source": [
    "from sklearn.model_selection import train_test_split\n",
    "from sklearn.metrics import f1_score\n",
    "from sklearn.model_selection import GridSearchCV\n",
    "from sklearn.tree import DecisionTreeClassifier\n",
    "from sklearn.linear_model import LogisticRegression\n",
    "from sklearn.ensemble import RandomForestClassifier"
   ]
  },
  {
   "cell_type": "code",
   "execution_count": 172,
   "metadata": {},
   "outputs": [],
   "source": [
    "X_train, X_test, y_train, y_test = train_test_split(X, y, test_size=0.20, random_state=0)"
   ]
  },
  {
   "cell_type": "code",
   "execution_count": 173,
   "metadata": {},
   "outputs": [],
   "source": [
    "model = LogisticRegression()"
   ]
  },
  {
   "cell_type": "code",
   "execution_count": 174,
   "metadata": {},
   "outputs": [
    {
     "data": {
      "text/plain": [
       "LogisticRegression(C=1.0, class_weight=None, dual=False, fit_intercept=True,\n",
       "          intercept_scaling=1, max_iter=100, multi_class='ovr', n_jobs=1,\n",
       "          penalty='l2', random_state=None, solver='liblinear', tol=0.0001,\n",
       "          verbose=0, warm_start=False)"
      ]
     },
     "execution_count": 174,
     "metadata": {},
     "output_type": "execute_result"
    }
   ],
   "source": [
    "model.fit(X_train, y_train)"
   ]
  },
  {
   "cell_type": "code",
   "execution_count": 175,
   "metadata": {},
   "outputs": [
    {
     "name": "stdout",
     "output_type": "stream",
     "text": [
      "[1 1 1 1 1 0 1 1 0 1 1 1 1 1 1 1 1 1 1 0 0 1 1 1 1 1 1 1 0 0 1 1 1 1 1 0 1\n",
      " 1 1 1 1 0 1 1 1 1 1 1 1 1 1 1 1 1 1 1 1 1 1 1 0 1 1 0 1 1 1 1 1 1 1 1 1 1\n",
      " 1 1 0 1 1 0 1 1 1 1 1 1 1 1 1 1 1 1 1 0 1 0 1 1 1 1 1 1 1 1 1 1 1 1 1 1 1\n",
      " 1 1 1 0 0 1 1 1 1 1 0 1]\n"
     ]
    }
   ],
   "source": [
    "ypred = model.predict(X_test)\n",
    "print(ypred)"
   ]
  },
  {
   "cell_type": "code",
   "execution_count": 178,
   "metadata": {},
   "outputs": [
    {
     "data": {
      "text/plain": [
       "0.8979591836734695"
      ]
     },
     "execution_count": 178,
     "metadata": {},
     "output_type": "execute_result"
    }
   ],
   "source": [
    "evaluation = f1_score(y_test, ypred)\n",
    "evaluation"
   ]
  },
  {
   "cell_type": "code",
   "execution_count": null,
   "metadata": {},
   "outputs": [],
   "source": []
  },
  {
   "cell_type": "markdown",
   "metadata": {},
   "source": [
    "### Using Decision Tree"
   ]
  },
  {
   "cell_type": "code",
   "execution_count": 162,
   "metadata": {},
   "outputs": [
    {
     "data": {
      "text/plain": [
       "DecisionTreeClassifier(class_weight=None, criterion='gini', max_depth=None,\n",
       "            max_features=None, max_leaf_nodes=None,\n",
       "            min_impurity_decrease=0.0, min_impurity_split=None,\n",
       "            min_samples_leaf=1, min_samples_split=2,\n",
       "            min_weight_fraction_leaf=0.0, presort=False, random_state=None,\n",
       "            splitter='best')"
      ]
     },
     "execution_count": 162,
     "metadata": {},
     "output_type": "execute_result"
    }
   ],
   "source": [
    "tree = DecisionTreeClassifier()\n",
    "tree.fit(X_train, y_train)"
   ]
  },
  {
   "cell_type": "code",
   "execution_count": 163,
   "metadata": {},
   "outputs": [
    {
     "name": "stdout",
     "output_type": "stream",
     "text": [
      "[0 1 1 0 1 1 1 1 0 1 0 1 1 1 1 1 1 1 0 0 0 1 1 0 0 1 1 1 0 0 1 0 1 1 1 0 1\n",
      " 1 1 1 0 0 1 0 0 1 1 1 1 1 1 1 1 1 1 0 1 0 1 1 0 0 1 0 0 1 1 1 1 1 1 1 1 0\n",
      " 1 1 0 1 1 0 1 1 1 1 1 0 1 0 1 1 1 1 1 0 1 0 1 1 1 1 0 1 0 1 1 1 0 1 1 1 0\n",
      " 1 1 1 0 0 0 1 1 0 1 0 0]\n"
     ]
    }
   ],
   "source": [
    "ypred_tree = tree.predict(X_test)\n",
    "print(ypred_tree)"
   ]
  },
  {
   "cell_type": "code",
   "execution_count": 164,
   "metadata": {},
   "outputs": [
    {
     "data": {
      "text/plain": [
       "0.7745664739884394"
      ]
     },
     "execution_count": 164,
     "metadata": {},
     "output_type": "execute_result"
    }
   ],
   "source": [
    "evaluation_tree = f1_score(y_test, ypred_tree)\n",
    "evaluation_tree"
   ]
  },
  {
   "cell_type": "markdown",
   "metadata": {},
   "source": [
    "### Using Random Forest Classifier"
   ]
  },
  {
   "cell_type": "code",
   "execution_count": 165,
   "metadata": {},
   "outputs": [
    {
     "data": {
      "text/plain": [
       "RandomForestClassifier(bootstrap=True, class_weight=None, criterion='gini',\n",
       "            max_depth=None, max_features='auto', max_leaf_nodes=None,\n",
       "            min_impurity_decrease=0.0, min_impurity_split=None,\n",
       "            min_samples_leaf=1, min_samples_split=2,\n",
       "            min_weight_fraction_leaf=0.0, n_estimators=10, n_jobs=1,\n",
       "            oob_score=False, random_state=None, verbose=0,\n",
       "            warm_start=False)"
      ]
     },
     "execution_count": 165,
     "metadata": {},
     "output_type": "execute_result"
    }
   ],
   "source": [
    "forest = RandomForestClassifier()\n",
    "forest.fit(X_train, y_train)"
   ]
  },
  {
   "cell_type": "code",
   "execution_count": 166,
   "metadata": {},
   "outputs": [
    {
     "name": "stdout",
     "output_type": "stream",
     "text": [
      "[1 1 1 1 1 0 1 0 0 1 1 1 1 1 1 1 1 1 0 0 0 1 1 1 1 1 1 1 0 0 1 0 1 1 1 0 1\n",
      " 1 1 1 1 0 1 1 1 1 1 1 1 1 1 1 1 1 1 0 1 1 1 1 0 1 1 0 1 1 1 1 1 1 1 1 0 1\n",
      " 1 1 0 1 1 0 0 1 1 1 0 1 1 1 1 1 1 1 1 0 1 0 1 1 1 1 0 1 1 1 0 1 1 0 1 0 1\n",
      " 1 1 1 0 0 1 1 1 1 1 0 1]\n"
     ]
    }
   ],
   "source": [
    "ypred_forest = forest.predict(X_test)\n",
    "print(ypred_forest)"
   ]
  },
  {
   "cell_type": "code",
   "execution_count": 167,
   "metadata": {},
   "outputs": [
    {
     "data": {
      "text/plain": [
       "0.8540540540540541"
      ]
     },
     "execution_count": 167,
     "metadata": {},
     "output_type": "execute_result"
    }
   ],
   "source": [
    "evaluation_forest = f1_score(y_test, ypred_forest)\n",
    "evaluation_forest"
   ]
  },
  {
   "cell_type": "markdown",
   "metadata": {},
   "source": [
    "### Using Catboost"
   ]
  },
  {
   "cell_type": "code",
   "execution_count": 168,
   "metadata": {},
   "outputs": [
    {
     "name": "stdout",
     "output_type": "stream",
     "text": [
      "0:\tlearn: 0.6687028\ttotal: 14.4ms\tremaining: 1.42s\n",
      "1:\tlearn: 0.6432550\ttotal: 27.2ms\tremaining: 1.33s\n",
      "2:\tlearn: 0.6222569\ttotal: 38.3ms\tremaining: 1.24s\n",
      "3:\tlearn: 0.6035111\ttotal: 53.8ms\tremaining: 1.29s\n",
      "4:\tlearn: 0.5849230\ttotal: 67.1ms\tremaining: 1.27s\n",
      "5:\tlearn: 0.5719449\ttotal: 79.3ms\tremaining: 1.24s\n",
      "6:\tlearn: 0.5592571\ttotal: 89.3ms\tremaining: 1.19s\n",
      "7:\tlearn: 0.5480464\ttotal: 99.5ms\tremaining: 1.14s\n",
      "8:\tlearn: 0.5360571\ttotal: 105ms\tremaining: 1.06s\n",
      "9:\tlearn: 0.5280855\ttotal: 115ms\tremaining: 1.04s\n",
      "10:\tlearn: 0.5189235\ttotal: 126ms\tremaining: 1.02s\n",
      "11:\tlearn: 0.5121510\ttotal: 137ms\tremaining: 1.01s\n",
      "12:\tlearn: 0.5043888\ttotal: 144ms\tremaining: 967ms\n",
      "13:\tlearn: 0.4980724\ttotal: 156ms\tremaining: 958ms\n",
      "14:\tlearn: 0.4930671\ttotal: 166ms\tremaining: 942ms\n",
      "15:\tlearn: 0.4875382\ttotal: 177ms\tremaining: 927ms\n",
      "16:\tlearn: 0.4829266\ttotal: 188ms\tremaining: 916ms\n",
      "17:\tlearn: 0.4786739\ttotal: 198ms\tremaining: 901ms\n",
      "18:\tlearn: 0.4748216\ttotal: 209ms\tremaining: 891ms\n",
      "19:\tlearn: 0.4706979\ttotal: 221ms\tremaining: 885ms\n",
      "20:\tlearn: 0.4658624\ttotal: 232ms\tremaining: 873ms\n",
      "21:\tlearn: 0.4629768\ttotal: 243ms\tremaining: 860ms\n",
      "22:\tlearn: 0.4591140\ttotal: 253ms\tremaining: 848ms\n",
      "23:\tlearn: 0.4548612\ttotal: 263ms\tremaining: 834ms\n",
      "24:\tlearn: 0.4523216\ttotal: 274ms\tremaining: 822ms\n",
      "25:\tlearn: 0.4505852\ttotal: 285ms\tremaining: 810ms\n",
      "26:\tlearn: 0.4484218\ttotal: 295ms\tremaining: 798ms\n",
      "27:\tlearn: 0.4471995\ttotal: 306ms\tremaining: 787ms\n",
      "28:\tlearn: 0.4445568\ttotal: 319ms\tremaining: 780ms\n",
      "29:\tlearn: 0.4417442\ttotal: 332ms\tremaining: 775ms\n",
      "30:\tlearn: 0.4390812\ttotal: 346ms\tremaining: 769ms\n",
      "31:\tlearn: 0.4380521\ttotal: 358ms\tremaining: 761ms\n",
      "32:\tlearn: 0.4357231\ttotal: 396ms\tremaining: 804ms\n",
      "33:\tlearn: 0.4333919\ttotal: 417ms\tremaining: 810ms\n",
      "34:\tlearn: 0.4310677\ttotal: 432ms\tremaining: 803ms\n",
      "35:\tlearn: 0.4304091\ttotal: 445ms\tremaining: 792ms\n",
      "36:\tlearn: 0.4279188\ttotal: 460ms\tremaining: 783ms\n",
      "37:\tlearn: 0.4260973\ttotal: 473ms\tremaining: 772ms\n",
      "38:\tlearn: 0.4245576\ttotal: 481ms\tremaining: 752ms\n",
      "39:\tlearn: 0.4231863\ttotal: 494ms\tremaining: 741ms\n",
      "40:\tlearn: 0.4212762\ttotal: 505ms\tremaining: 726ms\n",
      "41:\tlearn: 0.4201716\ttotal: 514ms\tremaining: 710ms\n",
      "42:\tlearn: 0.4191592\ttotal: 525ms\tremaining: 696ms\n",
      "43:\tlearn: 0.4181862\ttotal: 532ms\tremaining: 677ms\n",
      "44:\tlearn: 0.4175585\ttotal: 542ms\tremaining: 663ms\n",
      "45:\tlearn: 0.4169518\ttotal: 553ms\tremaining: 649ms\n",
      "46:\tlearn: 0.4155903\ttotal: 563ms\tremaining: 635ms\n",
      "47:\tlearn: 0.4146116\ttotal: 573ms\tremaining: 621ms\n",
      "48:\tlearn: 0.4134493\ttotal: 585ms\tremaining: 608ms\n",
      "49:\tlearn: 0.4121765\ttotal: 595ms\tremaining: 595ms\n",
      "50:\tlearn: 0.4102953\ttotal: 606ms\tremaining: 582ms\n",
      "51:\tlearn: 0.4087472\ttotal: 616ms\tremaining: 568ms\n",
      "52:\tlearn: 0.4066671\ttotal: 626ms\tremaining: 555ms\n",
      "53:\tlearn: 0.4053501\ttotal: 636ms\tremaining: 542ms\n",
      "54:\tlearn: 0.4041617\ttotal: 647ms\tremaining: 529ms\n",
      "55:\tlearn: 0.4023862\ttotal: 657ms\tremaining: 516ms\n",
      "56:\tlearn: 0.4009389\ttotal: 667ms\tremaining: 503ms\n",
      "57:\tlearn: 0.3999682\ttotal: 677ms\tremaining: 490ms\n",
      "58:\tlearn: 0.3988718\ttotal: 688ms\tremaining: 478ms\n",
      "59:\tlearn: 0.3972477\ttotal: 699ms\tremaining: 466ms\n",
      "60:\tlearn: 0.3966110\ttotal: 709ms\tremaining: 453ms\n",
      "61:\tlearn: 0.3954101\ttotal: 719ms\tremaining: 441ms\n",
      "62:\tlearn: 0.3946040\ttotal: 731ms\tremaining: 429ms\n",
      "63:\tlearn: 0.3932265\ttotal: 742ms\tremaining: 417ms\n",
      "64:\tlearn: 0.3925137\ttotal: 752ms\tremaining: 405ms\n",
      "65:\tlearn: 0.3912895\ttotal: 764ms\tremaining: 393ms\n",
      "66:\tlearn: 0.3903659\ttotal: 775ms\tremaining: 382ms\n",
      "67:\tlearn: 0.3895199\ttotal: 785ms\tremaining: 370ms\n",
      "68:\tlearn: 0.3892987\ttotal: 796ms\tremaining: 358ms\n",
      "69:\tlearn: 0.3878009\ttotal: 806ms\tremaining: 345ms\n",
      "70:\tlearn: 0.3860688\ttotal: 816ms\tremaining: 333ms\n",
      "71:\tlearn: 0.3853582\ttotal: 826ms\tremaining: 321ms\n",
      "72:\tlearn: 0.3840704\ttotal: 836ms\tremaining: 309ms\n",
      "73:\tlearn: 0.3829095\ttotal: 846ms\tremaining: 297ms\n",
      "74:\tlearn: 0.3815421\ttotal: 856ms\tremaining: 285ms\n",
      "75:\tlearn: 0.3790475\ttotal: 867ms\tremaining: 274ms\n",
      "76:\tlearn: 0.3784101\ttotal: 877ms\tremaining: 262ms\n",
      "77:\tlearn: 0.3774227\ttotal: 888ms\tremaining: 250ms\n",
      "78:\tlearn: 0.3754454\ttotal: 898ms\tremaining: 239ms\n",
      "79:\tlearn: 0.3745585\ttotal: 908ms\tremaining: 227ms\n",
      "80:\tlearn: 0.3724435\ttotal: 918ms\tremaining: 215ms\n",
      "81:\tlearn: 0.3702635\ttotal: 928ms\tremaining: 204ms\n",
      "82:\tlearn: 0.3686926\ttotal: 940ms\tremaining: 193ms\n",
      "83:\tlearn: 0.3664934\ttotal: 951ms\tremaining: 181ms\n",
      "84:\tlearn: 0.3661857\ttotal: 962ms\tremaining: 170ms\n",
      "85:\tlearn: 0.3653153\ttotal: 973ms\tremaining: 158ms\n",
      "86:\tlearn: 0.3639705\ttotal: 984ms\tremaining: 147ms\n",
      "87:\tlearn: 0.3626328\ttotal: 995ms\tremaining: 136ms\n",
      "88:\tlearn: 0.3619754\ttotal: 1s\tremaining: 124ms\n",
      "89:\tlearn: 0.3606330\ttotal: 1.01s\tremaining: 113ms\n",
      "90:\tlearn: 0.3596415\ttotal: 1.02s\tremaining: 101ms\n",
      "91:\tlearn: 0.3586493\ttotal: 1.03s\tremaining: 90.1ms\n",
      "92:\tlearn: 0.3575989\ttotal: 1.05s\tremaining: 78.7ms\n",
      "93:\tlearn: 0.3557445\ttotal: 1.06s\tremaining: 67.4ms\n",
      "94:\tlearn: 0.3543644\ttotal: 1.07s\tremaining: 56.1ms\n",
      "95:\tlearn: 0.3524411\ttotal: 1.08s\tremaining: 44.9ms\n",
      "96:\tlearn: 0.3513906\ttotal: 1.09s\tremaining: 33.6ms\n",
      "97:\tlearn: 0.3497616\ttotal: 1.1s\tremaining: 22.4ms\n",
      "98:\tlearn: 0.3479704\ttotal: 1.11s\tremaining: 11.2ms\n",
      "99:\tlearn: 0.3465575\ttotal: 1.12s\tremaining: 0us\n",
      "\n",
      "========================================================\n",
      " Results from Grid Search \n",
      "========================================================\n",
      "\n",
      " The best estimator across ALL searched params:\n",
      " <catboost.core.CatBoostClassifier object at 0x000000465AB6BE48>\n",
      "\n",
      " The best score across ALL searched params:\n",
      " 0.814663951120163\n",
      "\n",
      " The best parameters across ALL searched params:\n",
      " {'depth': 6, 'iterations': 100, 'learning_rate': 0.1}\n",
      "\n",
      " ========================================================\n"
     ]
    }
   ],
   "source": [
    "from catboost import CatBoostClassifier\n",
    "model=CatBoostClassifier()\n",
    "parameters = {'depth'         : [6,8,10],\n",
    "                  'learning_rate' : [0.01, 0.05, 0.1],\n",
    "                  'iterations'    : [50, 100, 300]\n",
    "                 }\n",
    "grid = GridSearchCV(estimator=model, param_grid = parameters, cv = 2, n_jobs=-1)\n",
    "grid.fit(X_train, y_train)    \n",
    "    # Results from Grid Search\n",
    "print(\"\\n========================================================\")\n",
    "print(\" Results from Grid Search \" )\n",
    "print(\"========================================================\")    \n",
    "    \n",
    "print(\"\\n The best estimator across ALL searched params:\\n\",grid.best_estimator_)\n",
    "    \n",
    "print(\"\\n The best score across ALL searched params:\\n\",grid.best_score_)\n",
    "    \n",
    "print(\"\\n The best parameters across ALL searched params:\\n\",grid.best_params_)\n",
    "    \n",
    "print(\"\\n ========================================================\")\n",
    "\n"
   ]
  },
  {
   "cell_type": "code",
   "execution_count": 169,
   "metadata": {},
   "outputs": [
    {
     "name": "stdout",
     "output_type": "stream",
     "text": [
      "0:\tlearn: 0.6687028\ttest: 0.6682404\tbest: 0.6682404 (0)\ttotal: 11.2ms\tremaining: 1.11s\n",
      "1:\tlearn: 0.6432550\ttest: 0.6420105\tbest: 0.6420105 (1)\ttotal: 21.6ms\tremaining: 1.06s\n",
      "2:\tlearn: 0.6222569\ttest: 0.6218432\tbest: 0.6218432 (2)\ttotal: 32.2ms\tremaining: 1.04s\n",
      "3:\tlearn: 0.6035111\ttest: 0.6026921\tbest: 0.6026921 (3)\ttotal: 42.8ms\tremaining: 1.03s\n",
      "4:\tlearn: 0.5849230\ttest: 0.5821261\tbest: 0.5821261 (4)\ttotal: 50ms\tremaining: 951ms\n",
      "5:\tlearn: 0.5719449\ttest: 0.5673022\tbest: 0.5673022 (5)\ttotal: 61.8ms\tremaining: 969ms\n",
      "6:\tlearn: 0.5592571\ttest: 0.5562131\tbest: 0.5562131 (6)\ttotal: 74.3ms\tremaining: 988ms\n",
      "7:\tlearn: 0.5480464\ttest: 0.5473378\tbest: 0.5473378 (7)\ttotal: 86ms\tremaining: 989ms\n",
      "8:\tlearn: 0.5360571\ttest: 0.5339422\tbest: 0.5339422 (8)\ttotal: 91.9ms\tremaining: 929ms\n",
      "9:\tlearn: 0.5280855\ttest: 0.5252966\tbest: 0.5252966 (9)\ttotal: 105ms\tremaining: 947ms\n",
      "10:\tlearn: 0.5189235\ttest: 0.5168247\tbest: 0.5168247 (10)\ttotal: 117ms\tremaining: 944ms\n",
      "11:\tlearn: 0.5121510\ttest: 0.5096730\tbest: 0.5096730 (11)\ttotal: 127ms\tremaining: 932ms\n",
      "12:\tlearn: 0.5043888\ttest: 0.5012715\tbest: 0.5012715 (12)\ttotal: 133ms\tremaining: 890ms\n",
      "13:\tlearn: 0.4980724\ttest: 0.4968644\tbest: 0.4968644 (13)\ttotal: 143ms\tremaining: 878ms\n",
      "14:\tlearn: 0.4930671\ttest: 0.4923176\tbest: 0.4923176 (14)\ttotal: 153ms\tremaining: 869ms\n",
      "15:\tlearn: 0.4875382\ttest: 0.4876265\tbest: 0.4876265 (15)\ttotal: 166ms\tremaining: 872ms\n",
      "16:\tlearn: 0.4829266\ttest: 0.4829553\tbest: 0.4829553 (16)\ttotal: 177ms\tremaining: 862ms\n",
      "17:\tlearn: 0.4786739\ttest: 0.4796627\tbest: 0.4796627 (17)\ttotal: 187ms\tremaining: 854ms\n",
      "18:\tlearn: 0.4748216\ttest: 0.4765058\tbest: 0.4765058 (18)\ttotal: 199ms\tremaining: 848ms\n",
      "19:\tlearn: 0.4706979\ttest: 0.4745221\tbest: 0.4745221 (19)\ttotal: 212ms\tremaining: 847ms\n",
      "20:\tlearn: 0.4658624\ttest: 0.4723318\tbest: 0.4723318 (20)\ttotal: 223ms\tremaining: 839ms\n",
      "21:\tlearn: 0.4629768\ttest: 0.4684070\tbest: 0.4684070 (21)\ttotal: 235ms\tremaining: 834ms\n",
      "22:\tlearn: 0.4591140\ttest: 0.4656800\tbest: 0.4656800 (22)\ttotal: 248ms\tremaining: 832ms\n",
      "23:\tlearn: 0.4548612\ttest: 0.4641595\tbest: 0.4641595 (23)\ttotal: 268ms\tremaining: 848ms\n",
      "24:\tlearn: 0.4523216\ttest: 0.4618962\tbest: 0.4618962 (24)\ttotal: 280ms\tremaining: 841ms\n",
      "25:\tlearn: 0.4505852\ttest: 0.4621809\tbest: 0.4618962 (24)\ttotal: 293ms\tremaining: 835ms\n",
      "26:\tlearn: 0.4484218\ttest: 0.4631564\tbest: 0.4618962 (24)\ttotal: 304ms\tremaining: 821ms\n",
      "27:\tlearn: 0.4471995\ttest: 0.4629079\tbest: 0.4618962 (24)\ttotal: 315ms\tremaining: 809ms\n",
      "28:\tlearn: 0.4445568\ttest: 0.4621980\tbest: 0.4618962 (24)\ttotal: 326ms\tremaining: 797ms\n",
      "29:\tlearn: 0.4417442\ttest: 0.4631438\tbest: 0.4618962 (24)\ttotal: 336ms\tremaining: 784ms\n",
      "30:\tlearn: 0.4390812\ttest: 0.4613498\tbest: 0.4613498 (30)\ttotal: 347ms\tremaining: 772ms\n",
      "31:\tlearn: 0.4380521\ttest: 0.4612861\tbest: 0.4612861 (31)\ttotal: 357ms\tremaining: 759ms\n",
      "32:\tlearn: 0.4357231\ttest: 0.4613398\tbest: 0.4612861 (31)\ttotal: 369ms\tremaining: 748ms\n",
      "33:\tlearn: 0.4333919\ttest: 0.4612921\tbest: 0.4612861 (31)\ttotal: 380ms\tremaining: 738ms\n",
      "34:\tlearn: 0.4310677\ttest: 0.4596808\tbest: 0.4596808 (34)\ttotal: 391ms\tremaining: 726ms\n",
      "35:\tlearn: 0.4304091\ttest: 0.4598385\tbest: 0.4596808 (34)\ttotal: 399ms\tremaining: 710ms\n",
      "36:\tlearn: 0.4279188\ttest: 0.4602281\tbest: 0.4596808 (34)\ttotal: 410ms\tremaining: 698ms\n",
      "37:\tlearn: 0.4260973\ttest: 0.4589758\tbest: 0.4589758 (37)\ttotal: 420ms\tremaining: 686ms\n",
      "38:\tlearn: 0.4245576\ttest: 0.4580947\tbest: 0.4580947 (38)\ttotal: 426ms\tremaining: 667ms\n",
      "39:\tlearn: 0.4231863\ttest: 0.4572241\tbest: 0.4572241 (39)\ttotal: 436ms\tremaining: 655ms\n",
      "40:\tlearn: 0.4212762\ttest: 0.4558551\tbest: 0.4558551 (40)\ttotal: 447ms\tremaining: 643ms\n",
      "41:\tlearn: 0.4201716\ttest: 0.4551146\tbest: 0.4551146 (41)\ttotal: 457ms\tremaining: 631ms\n",
      "42:\tlearn: 0.4191592\ttest: 0.4543096\tbest: 0.4543096 (42)\ttotal: 469ms\tremaining: 622ms\n",
      "43:\tlearn: 0.4181862\ttest: 0.4535622\tbest: 0.4535622 (43)\ttotal: 476ms\tremaining: 606ms\n",
      "44:\tlearn: 0.4175585\ttest: 0.4542608\tbest: 0.4535622 (43)\ttotal: 487ms\tremaining: 595ms\n",
      "45:\tlearn: 0.4169518\ttest: 0.4540308\tbest: 0.4535622 (43)\ttotal: 498ms\tremaining: 585ms\n",
      "46:\tlearn: 0.4155903\ttest: 0.4529264\tbest: 0.4529264 (46)\ttotal: 510ms\tremaining: 575ms\n",
      "47:\tlearn: 0.4146116\ttest: 0.4527636\tbest: 0.4527636 (47)\ttotal: 521ms\tremaining: 564ms\n",
      "48:\tlearn: 0.4134493\ttest: 0.4527393\tbest: 0.4527393 (48)\ttotal: 531ms\tremaining: 553ms\n",
      "49:\tlearn: 0.4121765\ttest: 0.4524601\tbest: 0.4524601 (49)\ttotal: 541ms\tremaining: 541ms\n",
      "50:\tlearn: 0.4102953\ttest: 0.4520577\tbest: 0.4520577 (50)\ttotal: 551ms\tremaining: 530ms\n",
      "51:\tlearn: 0.4087472\ttest: 0.4517442\tbest: 0.4517442 (51)\ttotal: 564ms\tremaining: 521ms\n",
      "52:\tlearn: 0.4066671\ttest: 0.4522204\tbest: 0.4517442 (51)\ttotal: 575ms\tremaining: 510ms\n",
      "53:\tlearn: 0.4053501\ttest: 0.4526667\tbest: 0.4517442 (51)\ttotal: 585ms\tremaining: 499ms\n",
      "54:\tlearn: 0.4041617\ttest: 0.4519547\tbest: 0.4517442 (51)\ttotal: 596ms\tremaining: 487ms\n",
      "55:\tlearn: 0.4023862\ttest: 0.4516605\tbest: 0.4516605 (55)\ttotal: 606ms\tremaining: 476ms\n",
      "56:\tlearn: 0.4009389\ttest: 0.4515339\tbest: 0.4515339 (56)\ttotal: 617ms\tremaining: 465ms\n",
      "57:\tlearn: 0.3999682\ttest: 0.4514993\tbest: 0.4514993 (57)\ttotal: 629ms\tremaining: 455ms\n",
      "58:\tlearn: 0.3988718\ttest: 0.4512750\tbest: 0.4512750 (58)\ttotal: 640ms\tremaining: 445ms\n",
      "59:\tlearn: 0.3972477\ttest: 0.4503312\tbest: 0.4503312 (59)\ttotal: 651ms\tremaining: 434ms\n",
      "60:\tlearn: 0.3966110\ttest: 0.4497665\tbest: 0.4497665 (60)\ttotal: 662ms\tremaining: 423ms\n",
      "61:\tlearn: 0.3954101\ttest: 0.4489379\tbest: 0.4489379 (61)\ttotal: 673ms\tremaining: 412ms\n",
      "62:\tlearn: 0.3946040\ttest: 0.4491695\tbest: 0.4489379 (61)\ttotal: 683ms\tremaining: 401ms\n",
      "63:\tlearn: 0.3932265\ttest: 0.4502590\tbest: 0.4489379 (61)\ttotal: 693ms\tremaining: 390ms\n",
      "64:\tlearn: 0.3925137\ttest: 0.4495445\tbest: 0.4489379 (61)\ttotal: 704ms\tremaining: 379ms\n",
      "65:\tlearn: 0.3912895\ttest: 0.4499139\tbest: 0.4489379 (61)\ttotal: 714ms\tremaining: 368ms\n",
      "66:\tlearn: 0.3903659\ttest: 0.4493211\tbest: 0.4489379 (61)\ttotal: 725ms\tremaining: 357ms\n",
      "67:\tlearn: 0.3895199\ttest: 0.4485437\tbest: 0.4485437 (67)\ttotal: 737ms\tremaining: 347ms\n",
      "68:\tlearn: 0.3892987\ttest: 0.4482575\tbest: 0.4482575 (68)\ttotal: 751ms\tremaining: 337ms\n",
      "69:\tlearn: 0.3878009\ttest: 0.4494509\tbest: 0.4482575 (68)\ttotal: 762ms\tremaining: 327ms\n",
      "70:\tlearn: 0.3860688\ttest: 0.4510806\tbest: 0.4482575 (68)\ttotal: 775ms\tremaining: 317ms\n",
      "71:\tlearn: 0.3853582\ttest: 0.4507812\tbest: 0.4482575 (68)\ttotal: 786ms\tremaining: 306ms\n",
      "72:\tlearn: 0.3840704\ttest: 0.4513433\tbest: 0.4482575 (68)\ttotal: 797ms\tremaining: 295ms\n",
      "73:\tlearn: 0.3829095\ttest: 0.4509731\tbest: 0.4482575 (68)\ttotal: 807ms\tremaining: 284ms\n",
      "74:\tlearn: 0.3815421\ttest: 0.4522321\tbest: 0.4482575 (68)\ttotal: 818ms\tremaining: 273ms\n",
      "75:\tlearn: 0.3790475\ttest: 0.4523377\tbest: 0.4482575 (68)\ttotal: 829ms\tremaining: 262ms\n",
      "76:\tlearn: 0.3784101\ttest: 0.4521673\tbest: 0.4482575 (68)\ttotal: 840ms\tremaining: 251ms\n",
      "77:\tlearn: 0.3774227\ttest: 0.4517707\tbest: 0.4482575 (68)\ttotal: 851ms\tremaining: 240ms\n",
      "78:\tlearn: 0.3754454\ttest: 0.4523150\tbest: 0.4482575 (68)\ttotal: 862ms\tremaining: 229ms\n",
      "79:\tlearn: 0.3745585\ttest: 0.4522195\tbest: 0.4482575 (68)\ttotal: 875ms\tremaining: 219ms\n",
      "80:\tlearn: 0.3724435\ttest: 0.4517502\tbest: 0.4482575 (68)\ttotal: 887ms\tremaining: 208ms\n",
      "81:\tlearn: 0.3702635\ttest: 0.4513065\tbest: 0.4482575 (68)\ttotal: 898ms\tremaining: 197ms\n",
      "82:\tlearn: 0.3686926\ttest: 0.4508243\tbest: 0.4482575 (68)\ttotal: 909ms\tremaining: 186ms\n",
      "83:\tlearn: 0.3664934\ttest: 0.4507966\tbest: 0.4482575 (68)\ttotal: 920ms\tremaining: 175ms\n",
      "84:\tlearn: 0.3661857\ttest: 0.4505443\tbest: 0.4482575 (68)\ttotal: 931ms\tremaining: 164ms\n",
      "85:\tlearn: 0.3653153\ttest: 0.4502037\tbest: 0.4482575 (68)\ttotal: 942ms\tremaining: 153ms\n",
      "86:\tlearn: 0.3639705\ttest: 0.4505060\tbest: 0.4482575 (68)\ttotal: 952ms\tremaining: 142ms\n",
      "87:\tlearn: 0.3626328\ttest: 0.4501372\tbest: 0.4482575 (68)\ttotal: 963ms\tremaining: 131ms\n",
      "88:\tlearn: 0.3619754\ttest: 0.4503895\tbest: 0.4482575 (68)\ttotal: 974ms\tremaining: 120ms\n",
      "89:\tlearn: 0.3606330\ttest: 0.4493811\tbest: 0.4482575 (68)\ttotal: 986ms\tremaining: 110ms\n",
      "90:\tlearn: 0.3596415\ttest: 0.4480712\tbest: 0.4480712 (90)\ttotal: 997ms\tremaining: 98.6ms\n",
      "91:\tlearn: 0.3586493\ttest: 0.4477360\tbest: 0.4477360 (91)\ttotal: 1.01s\tremaining: 87.7ms\n",
      "92:\tlearn: 0.3575989\ttest: 0.4481222\tbest: 0.4477360 (91)\ttotal: 1.02s\tremaining: 76.7ms\n",
      "93:\tlearn: 0.3557445\ttest: 0.4484365\tbest: 0.4477360 (91)\ttotal: 1.03s\tremaining: 65.7ms\n",
      "94:\tlearn: 0.3543644\ttest: 0.4494216\tbest: 0.4477360 (91)\ttotal: 1.04s\tremaining: 54.7ms\n",
      "95:\tlearn: 0.3524411\ttest: 0.4487821\tbest: 0.4477360 (91)\ttotal: 1.05s\tremaining: 43.8ms\n",
      "96:\tlearn: 0.3513906\ttest: 0.4484450\tbest: 0.4477360 (91)\ttotal: 1.06s\tremaining: 32.8ms\n",
      "97:\tlearn: 0.3497616\ttest: 0.4485163\tbest: 0.4477360 (91)\ttotal: 1.07s\tremaining: 21.8ms\n",
      "98:\tlearn: 0.3479704\ttest: 0.4477105\tbest: 0.4477105 (98)\ttotal: 1.08s\tremaining: 10.9ms\n"
     ]
    },
    {
     "name": "stdout",
     "output_type": "stream",
     "text": [
      "99:\tlearn: 0.3465575\ttest: 0.4479658\tbest: 0.4477105 (98)\ttotal: 1.09s\tremaining: 0us\n",
      "\n",
      "bestTest = 0.4477105009\n",
      "bestIteration = 98\n",
      "\n",
      "Shrink model to first 99 iterations.\n"
     ]
    },
    {
     "data": {
      "text/plain": [
       "<catboost.core.CatBoostClassifier at 0x465ace2e80>"
      ]
     },
     "execution_count": 169,
     "metadata": {},
     "output_type": "execute_result"
    }
   ],
   "source": [
    "model=CatBoostClassifier(depth = 6, iterations= 100, learning_rate= 0.1)\n",
    "model.fit(X_train, y_train,\n",
    "       eval_set=(X_test, y_test),plot=False)"
   ]
  },
  {
   "cell_type": "code",
   "execution_count": 170,
   "metadata": {},
   "outputs": [
    {
     "name": "stdout",
     "output_type": "stream",
     "text": [
      "The training or learning score is 0.8411405295315683\n",
      "The evaluation score is 0.8130081300813008\n"
     ]
    }
   ],
   "source": [
    "train_score = model.score(X_train, y_train) # train (learn) score\n",
    "\n",
    "val_score = model.score(X_test, y_test) # val (test) score\n",
    "print('The training or learning score is', train_score)\n",
    "print('The evaluation score is', val_score)"
   ]
  },
  {
   "cell_type": "code",
   "execution_count": null,
   "metadata": {},
   "outputs": [],
   "source": []
  }
 ],
 "metadata": {
  "kernelspec": {
   "display_name": "Python 3",
   "language": "python",
   "name": "python3"
  },
  "language_info": {
   "codemirror_mode": {
    "name": "ipython",
    "version": 3
   },
   "file_extension": ".py",
   "mimetype": "text/x-python",
   "name": "python",
   "nbconvert_exporter": "python",
   "pygments_lexer": "ipython3",
   "version": "3.6.5"
  }
 },
 "nbformat": 4,
 "nbformat_minor": 2
}
